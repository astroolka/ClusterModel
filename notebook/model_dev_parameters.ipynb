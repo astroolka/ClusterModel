{
 "cells": [
  {
   "cell_type": "code",
   "execution_count": 1,
   "metadata": {},
   "outputs": [],
   "source": [
    "import matplotlib.pyplot as plt\n",
    "import astropy.units as u\n",
    "import numpy as np\n",
    "from ClusterModel import model\n",
    "from ClusterTools import cluster_profile"
   ]
  },
  {
   "cell_type": "code",
   "execution_count": 2,
   "metadata": {},
   "outputs": [
    {
     "name": "stdout",
     "output_type": "stream",
     "text": [
      "=====================================================================\n",
      "                      ___   __    ___   __   __                      \n",
      "                     / __) / _\\  / __) /  \\ (  )                     \n",
      "                    ( (__ /    \\( (_ \\(  O )/ (_/\\                   \n",
      "                     \\___)\\_/\\_/ \\___/ \\__/ \\____/                   \n",
      "=====================================================================\n",
      "   Cluster Atmosphere modeling for Gamma-ray Observations Libraries  \n",
      "---------------------------------------------------------------------\n",
      "                                                                     \n",
      "Setting gNFW Planck coll. (2013) UPP.\n"
     ]
    }
   ],
   "source": [
    "clust = model.Cluster()"
   ]
  },
  {
   "cell_type": "code",
   "execution_count": 3,
   "metadata": {},
   "outputs": [
    {
     "name": "stdout",
     "output_type": "stream",
     "text": [
      "Getting the gas electron pressure profile model value\n"
     ]
    },
    {
     "data": {
      "text/plain": [
       "{'P_0': <Quantity 0.02519719 keV / cm3>,\n",
       " 'a': 1.33,\n",
       " 'b': 4.13,\n",
       " 'c': 0.31,\n",
       " 'c500': 1.81,\n",
       " 'name': 'GNFW',\n",
       " 'r_p': <Quantity 855.62300911 kpc>}"
      ]
     },
     "execution_count": 3,
     "metadata": {},
     "output_type": "execute_result"
    }
   ],
   "source": [
    "clust.pressure_gas_model"
   ]
  },
  {
   "cell_type": "code",
   "execution_count": 4,
   "metadata": {},
   "outputs": [],
   "source": [
    "r, p = clust.get_pressure_gas_profile()\n",
    "r, n = clust.get_density_gas_profile()\n",
    "r, t = clust.get_temperature_gas_profile()\n",
    "r, ncr = clust.get_density_crp_profile()\n",
    "r, b = clust.get_magfield_profile()\n",
    "r,x = clust.get_crp_to_thermal_energy_profile()"
   ]
  },
  {
   "cell_type": "code",
   "execution_count": 5,
   "metadata": {},
   "outputs": [],
   "source": [
    "from ClusterModel import model_modpar"
   ]
  },
  {
   "cell_type": "code",
   "execution_count": 6,
   "metadata": {},
   "outputs": [],
   "source": [
    "mp = model_modpar.Modpar()"
   ]
  },
  {
   "cell_type": "code",
   "execution_count": 7,
   "metadata": {},
   "outputs": [
    {
     "name": "stdout",
     "output_type": "stream",
     "text": [
      "Setting gNFW Planck coll. (2013) UPP.\n"
     ]
    }
   ],
   "source": [
    "clust.set_pressure_gas_gNFW_param()"
   ]
  },
  {
   "cell_type": "code",
   "execution_count": 8,
   "metadata": {},
   "outputs": [
    {
     "name": "stdout",
     "output_type": "stream",
     "text": [
      "Setting output_dir value\n"
     ]
    }
   ],
   "source": [
    "clust.output_dir = '/Users/adam/Desktop/testdir'"
   ]
  },
  {
   "cell_type": "code",
   "execution_count": 9,
   "metadata": {},
   "outputs": [
    {
     "name": "stdout",
     "output_type": "stream",
     "text": [
      "Setting EBL_model value\n"
     ]
    },
    {
     "name": "stderr",
     "output_type": "stream",
     "text": [
      "/Users/adam/Project/anaconda3/envs/cta/lib/python2.7/site-packages/astropy/units/quantity.py:641: RuntimeWarning: invalid value encountered in greater\n",
      "  *arrays, **kwargs)\n"
     ]
    },
    {
     "name": "stdout",
     "output_type": "stream",
     "text": [
      "!!! WARNING: XSPEC_table.txt not generated, skip Xray flux and Sx\n"
     ]
    },
    {
     "name": "stderr",
     "output_type": "stream",
     "text": [
      "/Users/adam/Project/anaconda3/envs/cta/lib/python2.7/site-packages/numpy/ma/core.py:6666: RuntimeWarning: overflow encountered in power\n",
      "  result = np.where(m, fa, umath.power(fa, fb)).view(basetype)\n"
     ]
    },
    {
     "name": "stdout",
     "output_type": "stream",
     "text": [
      "!!! WARNING: XSPEC_table.txt not generated, skip sx_map\n"
     ]
    }
   ],
   "source": [
    "clust.EBL_model = 'gilmore'\n",
    "clust.plot()"
   ]
  },
  {
   "cell_type": "code",
   "execution_count": 10,
   "metadata": {},
   "outputs": [],
   "source": [
    "r,x = clust.get_crp_to_thermal_energy_profile()"
   ]
  },
  {
   "cell_type": "code",
   "execution_count": null,
   "metadata": {},
   "outputs": [],
   "source": []
  }
 ],
 "metadata": {
  "kernelspec": {
   "display_name": "Python 2",
   "language": "python",
   "name": "python2"
  },
  "language_info": {
   "codemirror_mode": {
    "name": "ipython",
    "version": 2
   },
   "file_extension": ".py",
   "mimetype": "text/x-python",
   "name": "python",
   "nbconvert_exporter": "python",
   "pygments_lexer": "ipython2",
   "version": "2.7.16"
  }
 },
 "nbformat": 4,
 "nbformat_minor": 2
}
