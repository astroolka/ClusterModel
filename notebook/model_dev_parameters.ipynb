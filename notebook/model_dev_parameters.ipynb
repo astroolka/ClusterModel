{
 "cells": [
  {
   "cell_type": "code",
   "execution_count": 1,
   "metadata": {},
   "outputs": [],
   "source": [
    "import matplotlib.pyplot as plt\n",
    "import astropy.units as u\n",
    "import numpy as np\n",
    "from ClusterModel import model\n",
    "from ClusterTools import cluster_profile\n",
    "\n",
    "dict_base = {'font.size':        16, \n",
    "             'legend.fontsize':  16,\n",
    "             'xtick.labelsize':  16,\n",
    "             'ytick.labelsize':  16,\n",
    "             'axes.labelsize':   16,\n",
    "             'axes.titlesize':   16,\n",
    "             'figure.titlesize': 16,    \n",
    "             'figure.figsize':[8.0, 6.0],\n",
    "             'figure.subplot.right':0.97,\n",
    "             'figure.subplot.left':0.15, # Ensure enough space on the left so that all plot can be aligned\n",
    "             'font.family':'serif',\n",
    "             'figure.facecolor': 'white',\n",
    "             'legend.frameon': True}\n",
    "plt.rcParams.update(dict_base)"
   ]
  },
  {
   "cell_type": "code",
   "execution_count": 2,
   "metadata": {},
   "outputs": [
    {
     "name": "stdout",
     "output_type": "stream",
     "text": [
      "=====================================================================\n",
      "                      ___   __    ___   __   __                      \n",
      "                     / __) / _\\  / __) /  \\ (  )                     \n",
      "                    ( (__ /    \\( (_ \\(  O )/ (_/\\                   \n",
      "                     \\___)\\_/\\_/ \\___/ \\__/ \\____/                   \n",
      "=====================================================================\n",
      "   Cluster Atmosphere modeling for Gamma-ray Observations Libraries  \n",
      "---------------------------------------------------------------------\n",
      "                                                                     \n",
      "Setting gNFW Planck coll. (2013) UPP.\n",
      "Getting D_lum value\n",
      "Setting spectrum_crp_model value\n"
     ]
    }
   ],
   "source": [
    "clust = model.Cluster(redshift=0.023, M500=7e14*u.Msun)\n",
    "clust.D_lum\n",
    "clust.spectrum_crp_model = {'name':'PowerLaw', \"Index\":2.2}"
   ]
  },
  {
   "cell_type": "code",
   "execution_count": null,
   "metadata": {},
   "outputs": [],
   "source": []
  }
 ],
 "metadata": {
  "kernelspec": {
   "display_name": "Python 2",
   "language": "python",
   "name": "python2"
  },
  "language_info": {
   "codemirror_mode": {
    "name": "ipython",
    "version": 2
   },
   "file_extension": ".py",
   "mimetype": "text/x-python",
   "name": "python",
   "nbconvert_exporter": "python",
   "pygments_lexer": "ipython2",
   "version": "2.7.16"
  }
 },
 "nbformat": 4,
 "nbformat_minor": 2
}
