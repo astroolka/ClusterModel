{
 "cells": [
  {
   "cell_type": "code",
   "execution_count": 1,
   "metadata": {},
   "outputs": [],
   "source": [
    "import matplotlib.pyplot as plt\n",
    "import astropy.units as u\n",
    "from ClusterModel import model"
   ]
  },
  {
   "cell_type": "code",
   "execution_count": 2,
   "metadata": {},
   "outputs": [
    {
     "name": "stdout",
     "output_type": "stream",
     "text": [
      "=====================================================================\n",
      "                      ___   __    ___   __   __                      \n",
      "                     / __) / _\\  / __) /  \\ (  )                     \n",
      "                    ( (__ /    \\( (_ \\(  O )/ (_/\\                   \n",
      "                     \\___)\\_/\\_/ \\___/ \\__/ \\____/                   \n",
      "=====================================================================\n",
      "   Cluster Atmosphere modeling for Gamma-ray Observations Libraries  \n",
      "---------------------------------------------------------------------\n",
      "                                                                     \n"
     ]
    }
   ],
   "source": [
    "clust = model.Cluster()"
   ]
  },
  {
   "cell_type": "code",
   "execution_count": 3,
   "metadata": {},
   "outputs": [
    {
     "name": "stdout",
     "output_type": "stream",
     "text": [
      "The cosmology can only be set when defining the cluster object, as clust = Cluster(cosmology=astropy.cosmology.YourCosmology).  Doing nothing.                                                  \n"
     ]
    }
   ],
   "source": [
    "clust.cosmo = 1"
   ]
  },
  {
   "cell_type": "code",
   "execution_count": 4,
   "metadata": {},
   "outputs": [
    {
     "name": "stdout",
     "output_type": "stream",
     "text": [
      "Setting coord value\n"
     ]
    }
   ],
   "source": [
    "clust.coord = {'RA':0*u.arcmin, 'Dec':0*u.deg}"
   ]
  },
  {
   "cell_type": "code",
   "execution_count": 5,
   "metadata": {},
   "outputs": [
    {
     "name": "stdout",
     "output_type": "stream",
     "text": [
      "Setting name value\n"
     ]
    }
   ],
   "source": [
    "clust.name = 'e'"
   ]
  },
  {
   "cell_type": "code",
   "execution_count": 6,
   "metadata": {},
   "outputs": [
    {
     "name": "stdout",
     "output_type": "stream",
     "text": [
      "Setting redshift value\n",
      "Setting: D_ang, D_lum, R500, theta500, theta_truncation ; Fixing: cosmo.\n"
     ]
    }
   ],
   "source": [
    "clust.redshift = 1"
   ]
  },
  {
   "cell_type": "code",
   "execution_count": 7,
   "metadata": {},
   "outputs": [
    {
     "name": "stdout",
     "output_type": "stream",
     "text": [
      "The angular diameter distance cannot be set directly, the redshift has to be used instead.\n",
      "Doing nothing.                                                                            \n"
     ]
    }
   ],
   "source": [
    "clust.D_ang = 1*u.Gpc"
   ]
  },
  {
   "cell_type": "code",
   "execution_count": 8,
   "metadata": {},
   "outputs": [
    {
     "name": "stdout",
     "output_type": "stream",
     "text": [
      "Getting D_ang value\n",
      "Getting redshift value\n"
     ]
    },
    {
     "data": {
      "text/plain": [
       "(<Quantity 1697.95270833 Mpc>, 1)"
      ]
     },
     "execution_count": 8,
     "metadata": {},
     "output_type": "execute_result"
    }
   ],
   "source": [
    "clust.D_ang, clust.redshift"
   ]
  },
  {
   "cell_type": "code",
   "execution_count": 9,
   "metadata": {},
   "outputs": [
    {
     "name": "stdout",
     "output_type": "stream",
     "text": [
      "Setting EBL_model value\n"
     ]
    }
   ],
   "source": [
    "clust.EBL_model = 'dominguez'"
   ]
  },
  {
   "cell_type": "code",
   "execution_count": 10,
   "metadata": {},
   "outputs": [
    {
     "name": "stdout",
     "output_type": "stream",
     "text": [
      "Setting helium mass fraction value\n"
     ]
    }
   ],
   "source": [
    "clust.helium_mass_fraction = 1"
   ]
  },
  {
   "cell_type": "code",
   "execution_count": 11,
   "metadata": {},
   "outputs": [
    {
     "name": "stdout",
     "output_type": "stream",
     "text": [
      "Setting pressure_gas_model value\n",
      "Fixing: R500\n"
     ]
    }
   ],
   "source": [
    "clust.pressure_gas_model = {'name':'GNFW', 'P_0':1*u.keV/u.cm**3, 'a':1.0, 'b':1, \"c\":1,  'c500':1.0}"
   ]
  },
  {
   "cell_type": "code",
   "execution_count": 12,
   "metadata": {},
   "outputs": [
    {
     "name": "stdout",
     "output_type": "stream",
     "text": [
      "Getting the gas electron pressure profile model value\n"
     ]
    },
    {
     "data": {
      "text/plain": [
       "{'P_0': <Quantity 1. keV / cm3>,\n",
       " 'a': 1.0,\n",
       " 'b': 1,\n",
       " 'c': 1,\n",
       " 'c500': 1.0,\n",
       " 'name': 'GNFW',\n",
       " 'r_p': <Quantity 1058.24131438 kpc>}"
      ]
     },
     "execution_count": 12,
     "metadata": {},
     "output_type": "execute_result"
    }
   ],
   "source": [
    "clust.pressure_gas_model"
   ]
  },
  {
   "cell_type": "code",
   "execution_count": 13,
   "metadata": {},
   "outputs": [
    {
     "name": "stdout",
     "output_type": "stream",
     "text": [
      "Setting density_gas_model value\n",
      "Fixing: R500\n",
      "Getting the gas electron density profile model value\n",
      "{'name': 'doublebeta', 'beta2': 2.0, 'beta1': 2.0, 'n_01': <Quantity 0.01 1 / cm3>, 'n_02': <Quantity 0.01 1 / cm3>, 'r_c1': <Quantity 500. kpc>, 'r_c2': <Quantity 500. kpc>}\n",
      "Setting density_gas_model value\n",
      "Fixing: R500\n",
      "Getting the gas electron density profile model value\n",
      "{'beta': 1, 'r_s': <Quantity 1. kpc>, 'name': 'SVM', 'epsilon': 1, 'alpha': 1, 'r_c': <Quantity 100. kpc>, 'n_0': <Quantity 1. 1 / cm3>, 'gamma': 1}\n",
      "Setting pressure_gas_model value\n",
      "Fixing: R500\n",
      "Getting the gas electron pressure profile model value\n",
      "{'a': 1.8, 'c': 0.0, 'b': 3.1, 'name': 'GNFW', 'r_p': <Quantity 364.91079806 kpc>, 'c500': 2.9, 'P_0': <Quantity 0.022 keV / cm3>}\n",
      "Setting density_crp_model value\n",
      "Fixing: R500\n",
      "Getting the cosmic ray proton density profile model value\n",
      "{'a': 1, 'c': 1, 'b': 1, 'name': 'GNFW', 'r_p': <Quantity 100. kpc>, 'c500': 10.582413143815884, 'P_0': <Quantity 1. adu>}\n",
      "Setting density_crp_model value\n",
      "Fixing: R500\n",
      "Getting the cosmic ray proton density profile model value\n",
      "{'beta': 1, 'r_c': <Quantity 1. kpc>, 'n_0': <Quantity 1. adu>, 'name': 'beta'}\n",
      "Setting density_crp_model value\n",
      "Fixing: R500\n",
      "Getting the cosmic ray proton density profile model value\n",
      "{'name': 'doublebeta', 'beta2': 1, 'beta1': 1, 'n_01': <Quantity 1. adu>, 'n_02': <Quantity 1. adu>, 'r_c1': <Quantity 1. kpc>, 'r_c2': <Quantity 1. kpc>}\n",
      "Setting density_crp_model value\n",
      "Fixing: R500\n",
      "Getting the cosmic ray proton density profile model value\n",
      "{'beta': 1, 'r_s': <Quantity 1. kpc>, 'name': 'SVM', 'epsilon': 1, 'alpha': 1, 'r_c': <Quantity 1. kpc>, 'n_0': <Quantity 1. adu>, 'gamma': 1}\n",
      "Setting density_gas_model value\n",
      "Fixing: R500\n",
      "Getting the cosmic ray proton density profile model value\n",
      "{'beta': 1, 'r_s': <Quantity 1. kpc>, 'name': 'SVM', 'epsilon': 1, 'alpha': 1, 'r_c': <Quantity 1. kpc>, 'n_0': <Quantity 1. adu>, 'gamma': 1}\n"
     ]
    }
   ],
   "source": [
    "clust.density_gas_model = {'name':'doublebeta', \n",
    "                             'n_01':1e-2*u.Unit('cm-3'), 'beta1':2.0, 'r_c1':500.0*u.kpc,\n",
    "                             'n_02':1e-2*u.Unit('cm-3'), 'beta2':2.0, 'r_c2':500.0*u.kpc}\n",
    "print(clust.density_gas_model)\n",
    "clust.density_gas_model = {'name':'SVM', \n",
    "                            'n_0':1.0*u.cm**-3,'beta':1,'r_c':100*u.kpc,'r_s':1*u.kpc, \n",
    "                             'alpha':1, 'gamma':1, 'epsilon':1}\n",
    "print(clust.density_gas_model)\n",
    "clust.pressure_gas_model = {'name':'GNFW', 'P_0':2.2e-2*u.keV/u.cm**3,'a':1.8,'b':3.1,'c':0.0,'c500':2.9}\n",
    "print(clust.pressure_gas_model)\n",
    "clust.density_crp_model = {'name':'GNFW', 'P_0':1,'a':1, 'b':1, 'c':1, 'r_p':100*u.kpc}\n",
    "print(clust.density_crp_model)\n",
    "clust.density_crp_model = {'name':'beta', 'n_0':1,'beta':1, 'r_c':1*u.kpc}\n",
    "print(clust.density_crp_model)\n",
    "clust.density_crp_model = {'name':'doublebeta', 'beta1':1, 'beta2':1, 'r_c1':1*u.kpc, 'r_c2':1*u.kpc, 'n_01':1.0, 'n_02':1.0}\n",
    "print(clust.density_crp_model)\n",
    "clust.density_crp_model = {'name':'SVM', 'n_0':1,'beta':1, 'alpha':1, 'gamma':1, 'epsilon':1, 'r_c':1*u.kpc, 'r_s':1.0*u.kpc}\n",
    "print(clust.density_crp_model)\n",
    "clust.density_gas_model = {'name':'doublebeta', 'beta2':2.0/3, 'r_c2':290*u.kpc, 'n_02':3e-3*u.cm**-3,'beta1':2.0/3, 'r_c1':290*u.kpc, 'n_01':3e-3*u.cm**-3}\n",
    "print(clust.density_crp_model)"
   ]
  },
  {
   "cell_type": "code",
   "execution_count": 14,
   "metadata": {},
   "outputs": [
    {
     "name": "stdout",
     "output_type": "stream",
     "text": [
      "{'name': 'doublebeta', 'beta2': 0.6666666666666666, 'beta1': 0.6666666666666666, 'n_01': <Quantity 0.003 G>, 'n_02': <Quantity 0.003 G>, 'r_c1': <Quantity 290. kpc>, 'r_c2': <Quantity 290. kpc>}\n",
      "Setting magfield_model value\n",
      "Fixing: R500\n",
      "Getting the magnetic field profile parameters value\n",
      "{'name': 'doublebeta', 'beta2': 0.6666666666666666, 'beta1': 0.6666666666666666, 'n_01': <Quantity 3000. uG>, 'n_02': <Quantity 3000. uG>, 'r_c1': <Quantity 290. kpc>, 'r_c2': <Quantity 290. kpc>}\n"
     ]
    }
   ],
   "source": [
    "clust.magfield_model = {'name':'doublebeta', 'beta2':2.0/3, 'r_c2':290*u.kpc, 'n_02':3e-3*u.G,\n",
    "                         'beta1':2.0/3, 'r_c1':290*u.kpc, 'n_01':3e-3*u.G}\n",
    "print(clust.magfield_model)"
   ]
  },
  {
   "cell_type": "code",
   "execution_count": 15,
   "metadata": {},
   "outputs": [
    {
     "name": "stdout",
     "output_type": "stream",
     "text": [
      "Setting density_gas_model value\n",
      "Fixing: R500\n"
     ]
    },
    {
     "data": {
      "text/plain": [
       "[<matplotlib.lines.Line2D at 0x181d577dd0>]"
      ]
     },
     "execution_count": 15,
     "metadata": {},
     "output_type": "execute_result"
    },
    {
     "data": {
      "image/png": "[encoded data removed]",
      "text/plain": [
       "<Figure size 432x288 with 1 Axes>"
      ]
     },
     "metadata": {
      "needs_background": "light"
     },
     "output_type": "display_data"
    }
   ],
   "source": [
    "clust.density_gas_model = {'name':'doublebeta', 'beta2':2.0/3, 'r_c2':10*u.kpc, 'n_02':3e-3*u.cm**-3,'beta1':2.0/3, 'r_c1':290*u.kpc, 'n_01':3e-3*u.cm**-3}\n",
    "clust.set_pressure_gas_isoT_param(10.0*u.keV)\n",
    "\n",
    "r1 ,n = clust.get_density_gas_profile()\n",
    "r2, p = clust.get_pressure_gas_profile()\n",
    "#clust.density_gas_model\n",
    "#clust.pressure_gas_model\n",
    "\n",
    "plt.loglog(r1, n)\n",
    "plt.loglog(r2,p)"
   ]
  },
  {
   "cell_type": "code",
   "execution_count": 16,
   "metadata": {},
   "outputs": [
    {
     "name": "stderr",
     "output_type": "stream",
     "text": [
      "/Users/adam/Project/anaconda3/envs/cta/lib/python2.7/site-packages/astropy/units/quantity.py:641: RuntimeWarning: invalid value encountered in true_divide\n",
      "  *arrays, **kwargs)\n"
     ]
    },
    {
     "data": {
      "text/latex": [
       "$[0.0059702614,~0.0059697135,~0.0059691556,~\\dots,~0,~0,~0] \\; \\mathrm{\\frac{1}{cm^{3}}}$"
      ],
      "text/plain": [
       "<Quantity [5.97026136e-03, 5.96971349e-03, 5.96915564e-03, 5.96858761e-03,\n",
       "           5.96800924e-03, 5.96742034e-03, 5.96682071e-03, 5.96621018e-03,\n",
       "           5.96558854e-03, 5.96495560e-03, 5.96431116e-03, 5.96365501e-03,\n",
       "           5.96298695e-03, 5.96230676e-03, 5.96161424e-03, 5.96090916e-03,\n",
       "           5.96019130e-03, 5.95946044e-03, 5.95871635e-03, 5.95795880e-03,\n",
       "           5.95718754e-03, 5.95640235e-03, 5.95560297e-03, 5.95478915e-03,\n",
       "           5.95396065e-03, 5.95311721e-03, 5.95225856e-03, 5.95138445e-03,\n",
       "           5.95049460e-03, 5.94958874e-03, 5.94866659e-03, 5.94772787e-03,\n",
       "           5.94677230e-03, 5.94579958e-03, 5.94480941e-03, 5.94380150e-03,\n",
       "           5.94277553e-03, 5.94173121e-03, 5.94066821e-03, 5.93958622e-03,\n",
       "           5.93848491e-03, 5.93736395e-03, 5.93622300e-03, 5.93506173e-03,\n",
       "           5.93387979e-03, 5.93267683e-03, 5.93145249e-03, 5.93020641e-03,\n",
       "           5.92893823e-03, 5.92764758e-03, 5.92633407e-03, 5.92499733e-03,\n",
       "           5.92363696e-03, 5.92225257e-03, 5.92084376e-03, 5.91941013e-03,\n",
       "           5.91795125e-03, 5.91646672e-03, 5.91495612e-03, 5.91341900e-03,\n",
       "           5.91185494e-03, 5.91026349e-03, 5.90864421e-03, 5.90699664e-03,\n",
       "           5.90532033e-03, 5.90361479e-03, 5.90187957e-03, 5.90011418e-03,\n",
       "           5.89831814e-03, 5.89649096e-03, 5.89463213e-03, 5.89274115e-03,\n",
       "           5.89081751e-03, 5.88886070e-03, 5.88687018e-03, 5.88484543e-03,\n",
       "           5.88278591e-03, 5.88069107e-03, 5.87856037e-03, 5.87639324e-03,\n",
       "           5.87418913e-03, 5.87194746e-03, 5.86966766e-03, 5.86734913e-03,\n",
       "           5.86499130e-03, 5.86259356e-03, 5.86015530e-03, 5.85767593e-03,\n",
       "           5.85515482e-03, 5.85259135e-03, 5.84998488e-03, 5.84733479e-03,\n",
       "           5.84464043e-03, 5.84190115e-03, 5.83911629e-03, 5.83628520e-03,\n",
       "           5.83340721e-03, 5.83048163e-03, 5.82750780e-03, 5.82448503e-03,\n",
       "           5.82141262e-03, 5.81828988e-03, 5.81511610e-03, 5.81189058e-03,\n",
       "           5.80861260e-03, 5.80528144e-03, 5.80189638e-03, 5.79845668e-03,\n",
       "           5.79496163e-03, 5.79141046e-03, 5.78780245e-03, 5.78413684e-03,\n",
       "           5.78041289e-03, 5.77662983e-03, 5.77278690e-03, 5.76888335e-03,\n",
       "           5.76491840e-03, 5.76089128e-03, 5.75680123e-03, 5.75264747e-03,\n",
       "           5.74842921e-03, 5.74414569e-03, 5.73979611e-03, 5.73537970e-03,\n",
       "           5.73089567e-03, 5.72634323e-03, 5.72172160e-03, 5.71703000e-03,\n",
       "           5.71226763e-03, 5.70743372e-03, 5.70252747e-03, 5.69754812e-03,\n",
       "           5.69249486e-03, 5.68736693e-03, 5.68216355e-03, 5.67688395e-03,\n",
       "           5.67152735e-03, 5.66609298e-03, 5.66058010e-03, 5.65498793e-03,\n",
       "           5.64931574e-03, 5.64356277e-03, 5.63772828e-03, 5.63181154e-03,\n",
       "           5.62581183e-03, 5.61972843e-03, 5.61356063e-03, 5.60730774e-03,\n",
       "           5.60096906e-03, 5.59454393e-03, 5.58803166e-03, 5.58143161e-03,\n",
       "           5.57474313e-03, 5.56796560e-03, 5.56109839e-03, 5.55414092e-03,\n",
       "           5.54709258e-03, 5.53995281e-03, 5.53272106e-03, 5.52539679e-03,\n",
       "           5.51797948e-03, 5.51046864e-03, 5.50286377e-03, 5.49516443e-03,\n",
       "           5.48737017e-03, 5.47948058e-03, 5.47149526e-03, 5.46341383e-03,\n",
       "           5.45523596e-03, 5.44696132e-03, 5.43858961e-03, 5.43012056e-03,\n",
       "           5.42155393e-03, 5.41288950e-03, 5.40412708e-03, 5.39526652e-03,\n",
       "           5.38630768e-03, 5.37725048e-03, 5.36809484e-03, 5.35884073e-03,\n",
       "           5.34948816e-03, 5.34003715e-03, 5.33048778e-03, 5.32084014e-03,\n",
       "           5.31109438e-03, 5.30125066e-03, 5.29130921e-03, 5.28127028e-03,\n",
       "           5.27113414e-03, 5.26090114e-03, 5.25057163e-03, 5.24014602e-03,\n",
       "           5.22962476e-03, 5.21900833e-03, 5.20829727e-03, 5.19749215e-03,\n",
       "           5.18659357e-03, 5.17560220e-03, 5.16451874e-03, 5.15334391e-03,\n",
       "           5.14207852e-03, 5.13072338e-03, 5.11927938e-03, 5.10774742e-03,\n",
       "           5.09612846e-03, 5.08442352e-03, 5.07263363e-03, 5.06075990e-03,\n",
       "           5.04880345e-03, 5.03676547e-03, 5.02464718e-03, 5.01244985e-03,\n",
       "           5.00017479e-03, 4.98782335e-03, 4.97539694e-03, 4.96289698e-03,\n",
       "           4.95032496e-03, 4.93768241e-03, 4.92497087e-03, 4.91219197e-03,\n",
       "           4.89934734e-03, 4.88643865e-03, 4.87346764e-03, 4.86043606e-03,\n",
       "           4.84734570e-03, 4.83419839e-03, 4.82099600e-03, 4.80774043e-03,\n",
       "           4.79443360e-03, 4.78107748e-03, 4.76767406e-03, 4.75422537e-03,\n",
       "           4.74073346e-03, 4.72720040e-03, 4.71362831e-03, 4.70001931e-03,\n",
       "           4.68637556e-03, 4.67269922e-03, 4.65899251e-03, 4.64525762e-03,\n",
       "           4.63149681e-03, 4.61771230e-03, 4.60390638e-03, 4.59008131e-03,\n",
       "           4.57623939e-03, 4.56238292e-03, 4.54851420e-03, 4.53463556e-03,\n",
       "           4.52074931e-03, 4.50685777e-03, 4.49296328e-03, 4.47906817e-03,\n",
       "           4.46517476e-03, 4.45128538e-03, 4.43740235e-03, 4.42352798e-03,\n",
       "           4.40966459e-03, 4.39581447e-03, 4.38197992e-03, 4.36816321e-03,\n",
       "           4.35436660e-03, 4.34059235e-03, 4.32684268e-03, 4.31311982e-03,\n",
       "           4.29942596e-03, 4.28576327e-03, 4.27213390e-03, 4.25853999e-03,\n",
       "           4.24498363e-03, 4.23146691e-03, 4.21799188e-03, 4.20456055e-03,\n",
       "           4.19117492e-03, 4.17783695e-03, 4.16454856e-03, 4.15131166e-03,\n",
       "           4.13812811e-03, 4.12499972e-03, 4.11192829e-03, 4.09891557e-03,\n",
       "           4.08596327e-03, 4.07307308e-03, 4.06024662e-03, 4.04748549e-03,\n",
       "           4.03479125e-03, 4.02216541e-03, 4.00960945e-03, 3.99712478e-03,\n",
       "           3.98471280e-03, 3.97237485e-03, 3.96011223e-03, 3.94792619e-03,\n",
       "           3.93581794e-03, 3.92378865e-03, 3.91183943e-03, 3.89997137e-03,\n",
       "           3.88818549e-03, 3.87648277e-03, 3.86486417e-03, 3.85333056e-03,\n",
       "           3.84188281e-03, 3.83052171e-03, 3.81924803e-03, 3.80806248e-03,\n",
       "           3.79696573e-03, 3.78595841e-03, 3.77504110e-03, 3.76421433e-03,\n",
       "           3.75347862e-03, 3.74283440e-03, 3.73228208e-03, 3.72182205e-03,\n",
       "           3.71145462e-03, 3.70118008e-03, 3.69099867e-03, 3.68091061e-03,\n",
       "           3.67091605e-03, 3.66101513e-03, 3.65120794e-03, 3.64149452e-03,\n",
       "           3.63187489e-03, 3.62234904e-03, 3.61291689e-03, 3.60357837e-03,\n",
       "           3.59433335e-03, 3.58518166e-03, 3.57612311e-03, 3.56715748e-03,\n",
       "           3.55828452e-03, 3.54950393e-03, 3.54081540e-03, 3.53221859e-03,\n",
       "           3.52371311e-03, 3.51529858e-03, 3.50697455e-03, 3.49874058e-03,\n",
       "           3.49059619e-03, 3.48254086e-03, 3.47457407e-03, 3.46669527e-03,\n",
       "           3.45890388e-03, 3.45119930e-03, 3.44358092e-03, 3.43604809e-03,\n",
       "           3.42860017e-03, 3.42123647e-03, 3.41395629e-03, 3.40675892e-03,\n",
       "           3.39964364e-03, 3.39260969e-03, 3.38565631e-03, 3.37878272e-03,\n",
       "           3.37198814e-03, 3.36527175e-03, 3.35863273e-03, 3.35207026e-03,\n",
       "           3.34558349e-03, 3.33917156e-03, 3.33283360e-03, 3.32656875e-03,\n",
       "           3.32037610e-03, 3.31425477e-03, 3.30820385e-03, 3.30222242e-03,\n",
       "           3.29630956e-03, 3.29046434e-03, 3.28468583e-03, 3.27897308e-03,\n",
       "           3.27332514e-03, 3.26774106e-03, 3.26221987e-03, 3.25676061e-03,\n",
       "           3.25136231e-03, 3.24602399e-03, 3.24074468e-03, 3.23552338e-03,\n",
       "           3.23035912e-03, 3.22525090e-03, 3.22019773e-03, 3.21519862e-03,\n",
       "           3.21025257e-03, 3.20535859e-03, 3.20051566e-03, 3.19572279e-03,\n",
       "           3.19097898e-03, 3.18628321e-03, 3.18163449e-03, 3.17703181e-03,\n",
       "           3.17247415e-03, 3.16796053e-03, 3.16348991e-03, 3.15906131e-03,\n",
       "           3.15467371e-03, 3.15032610e-03, 3.14601747e-03, 3.14174683e-03,\n",
       "           3.13751316e-03, 3.13331545e-03, 3.12915271e-03, 3.12502393e-03,\n",
       "           3.12092810e-03, 3.11686422e-03, 3.11283130e-03, 3.10882832e-03,\n",
       "           3.10485429e-03, 3.10090822e-03, 3.09698909e-03, 3.09309593e-03,\n",
       "           3.08922772e-03, 3.08538348e-03, 3.08156222e-03, 3.07776293e-03,\n",
       "           3.07398464e-03, 3.07022634e-03, 3.06648705e-03, 3.06276579e-03,\n",
       "           3.05906156e-03, 3.05537338e-03, 3.05170026e-03, 3.04804122e-03,\n",
       "           3.04439527e-03, 3.04076143e-03, 3.03713873e-03, 3.03352617e-03,\n",
       "           3.02992278e-03, 3.02632758e-03, 3.02273958e-03, 3.01915782e-03,\n",
       "           3.01558130e-03, 3.01200905e-03, 3.00844009e-03, 3.00487345e-03,\n",
       "           3.00130815e-03, 2.99774320e-03, 2.99417764e-03, 2.99061047e-03,\n",
       "           2.98704074e-03, 2.98346745e-03, 2.97988963e-03, 2.97630630e-03,\n",
       "           2.97271648e-03, 2.96911920e-03, 2.96551346e-03, 2.96189830e-03,\n",
       "           2.95827273e-03, 2.95463577e-03, 2.95098643e-03, 2.94732374e-03,\n",
       "           2.94364671e-03, 2.93995435e-03, 2.93624569e-03, 2.93251972e-03,\n",
       "           2.92877547e-03, 2.92501195e-03, 2.92122817e-03, 2.91742313e-03,\n",
       "           2.91359585e-03, 2.90974533e-03, 2.90587058e-03, 2.90197060e-03,\n",
       "           2.89804441e-03, 2.89409099e-03, 2.89010936e-03, 2.88609851e-03,\n",
       "           2.88205744e-03, 2.87798516e-03, 2.87388066e-03, 2.86974294e-03,\n",
       "           2.86557099e-03, 2.86136382e-03, 2.85712041e-03, 2.85283975e-03,\n",
       "           2.84852085e-03, 2.84416270e-03, 2.83976428e-03, 2.83532460e-03,\n",
       "           2.83084264e-03, 2.82631739e-03, 2.82174786e-03, 2.81713302e-03,\n",
       "           2.81247188e-03, 2.80776343e-03, 2.80300666e-03, 2.79820057e-03,\n",
       "           2.79334415e-03, 2.78843641e-03, 2.78347634e-03, 2.77846294e-03,\n",
       "           2.77339522e-03, 2.76827219e-03, 2.76309284e-03, 2.75785620e-03,\n",
       "           2.75256128e-03, 2.74720710e-03, 2.74179267e-03, 2.73631703e-03,\n",
       "           2.73077920e-03, 2.72517822e-03, 2.71951312e-03, 2.71378297e-03,\n",
       "           2.70798680e-03, 2.70212367e-03, 2.69619266e-03, 2.69019283e-03,\n",
       "           2.68412326e-03, 2.67798304e-03, 2.67177126e-03, 2.66548704e-03,\n",
       "           2.65912949e-03, 2.65269773e-03, 2.64619089e-03, 2.63960814e-03,\n",
       "           2.63294861e-03, 2.62621149e-03, 2.61939596e-03, 2.61250122e-03,\n",
       "           2.60552648e-03, 2.59847096e-03, 2.59133390e-03, 2.58411457e-03,\n",
       "           2.57681224e-03, 2.56942619e-03, 2.56195574e-03, 2.55440021e-03,\n",
       "           2.54675896e-03, 2.53903134e-03, 2.53121674e-03, 2.52331458e-03,\n",
       "           2.51532429e-03, 2.50724531e-03, 2.49907712e-03, 2.49081923e-03,\n",
       "           2.48247117e-03, 2.47403248e-03, 2.46550273e-03, 2.45688155e-03,\n",
       "           2.44816856e-03, 2.43936342e-03, 2.43046582e-03, 2.42147549e-03,\n",
       "           2.41239218e-03, 2.40321567e-03, 2.39394578e-03, 2.38458236e-03,\n",
       "           2.37512529e-03, 2.36557448e-03, 2.35592990e-03, 2.34619152e-03,\n",
       "           2.33635938e-03, 2.32643353e-03, 2.31641408e-03, 2.30630116e-03,\n",
       "           2.29609495e-03, 2.28579567e-03, 2.27540357e-03, 2.26491894e-03,\n",
       "           2.25434214e-03, 2.24367353e-03, 2.23291353e-03, 2.22206263e-03,\n",
       "           2.21112131e-03, 2.20009013e-03, 2.18896969e-03, 2.17776062e-03,\n",
       "           2.16646360e-03, 2.15507937e-03, 2.14360869e-03, 2.13205238e-03,\n",
       "           2.12041131e-03, 2.10868637e-03, 2.09687852e-03, 2.08498876e-03,\n",
       "           2.07301813e-03, 2.06096772e-03, 2.04883865e-03, 2.03663211e-03,\n",
       "           2.02434932e-03, 2.01199154e-03, 1.99956009e-03, 1.98705631e-03,\n",
       "           1.97448161e-03, 1.96183743e-03, 1.94912524e-03, 1.93634657e-03,\n",
       "           1.92350300e-03, 1.91059612e-03, 1.89762758e-03, 1.88459907e-03,\n",
       "           1.87151231e-03, 1.85836906e-03, 1.84517113e-03, 1.83192035e-03,\n",
       "           1.81861858e-03, 1.80526774e-03, 1.79186976e-03, 1.77842660e-03,\n",
       "           1.76494028e-03, 1.75141281e-03, 1.73784625e-03, 1.72424270e-03,\n",
       "           1.71060426e-03, 1.69693306e-03, 1.68323127e-03, 1.66950106e-03,\n",
       "           1.65574463e-03, 1.64196421e-03, 1.62816204e-03, 1.61434035e-03,\n",
       "           1.60050144e-03, 1.58664756e-03, 1.57278103e-03, 1.55890413e-03,\n",
       "           1.54501918e-03, 1.53112850e-03, 1.51723441e-03, 1.50333924e-03,\n",
       "           1.48944531e-03, 1.47555495e-03, 1.46167050e-03, 1.44779427e-03,\n",
       "           1.43392858e-03, 1.42007576e-03, 1.40623810e-03, 1.39241790e-03,\n",
       "           1.37861746e-03, 1.36483903e-03, 1.35108490e-03, 1.33735729e-03,\n",
       "           1.32365845e-03, 1.30999057e-03, 1.29635585e-03, 1.28275646e-03,\n",
       "           1.26919455e-03, 1.25567224e-03, 1.24219163e-03, 1.22875478e-03,\n",
       "           1.21536376e-03, 1.20202056e-03, 1.18872718e-03, 1.17548557e-03,\n",
       "           1.16229765e-03, 1.14916532e-03, 1.13609042e-03, 1.12307478e-03,\n",
       "           1.11012019e-03, 1.09722838e-03, 1.08440108e-03, 1.07163994e-03,\n",
       "           1.05894661e-03, 1.04632267e-03, 1.03376968e-03, 1.02128915e-03,\n",
       "           1.00888255e-03, 9.96551303e-04, 9.84296797e-04, 9.72120373e-04,\n",
       "           9.60023332e-04, 9.48006930e-04, 9.36072378e-04, 9.24220846e-04,\n",
       "           9.12453458e-04, 9.00771295e-04, 8.89175394e-04, 8.77666746e-04,\n",
       "           8.66246300e-04, 8.54914962e-04, 8.43673590e-04, 8.32523002e-04,\n",
       "           8.21463971e-04, 8.10497228e-04, 7.99623458e-04, 7.88843307e-04,\n",
       "           7.78157376e-04, 7.67566224e-04, 7.57070370e-04, 7.46670290e-04,\n",
       "           7.36366421e-04, 7.26159158e-04, 7.16048858e-04, 7.06035837e-04,\n",
       "           6.96120372e-04, 6.86302705e-04, 6.76583037e-04, 6.66961534e-04,\n",
       "           6.57438326e-04, 6.48013506e-04, 6.38687132e-04, 6.29459230e-04,\n",
       "           6.20329790e-04, 6.11298770e-04, 6.02366097e-04, 5.93531665e-04,\n",
       "           5.84795338e-04, 5.76156951e-04, 5.67616307e-04, 5.59173185e-04,\n",
       "           5.50827332e-04, 5.42578470e-04, 5.34426296e-04, 5.26370480e-04,\n",
       "           5.18410668e-04, 5.10546483e-04, 5.02777523e-04, 4.95103366e-04,\n",
       "           4.87523566e-04, 4.80037658e-04, 4.72645157e-04, 4.65345558e-04,\n",
       "           4.58138337e-04, 4.51022954e-04, 4.43998851e-04, 4.37065452e-04,\n",
       "           4.30222168e-04, 4.23468394e-04, 4.16803509e-04, 4.10226881e-04,\n",
       "           4.03737863e-04, 3.97335799e-04, 3.91020017e-04, 3.84789836e-04,\n",
       "           3.78644566e-04, 3.72583506e-04, 3.66605945e-04, 3.60711165e-04,\n",
       "           3.54898439e-04, 3.49167033e-04, 3.43516206e-04, 3.37945212e-04,\n",
       "           3.32453296e-04, 3.27039701e-04, 3.21703664e-04, 3.16444417e-04,\n",
       "           3.11261190e-04, 3.06153208e-04, 3.01119693e-04, 2.96159866e-04,\n",
       "           2.91272946e-04, 2.86458148e-04, 2.81714689e-04, 2.77041783e-04,\n",
       "           2.72438644e-04, 2.67904486e-04, 2.63438524e-04, 2.59039972e-04,\n",
       "           2.54708048e-04, 2.50441967e-04, 2.46240949e-04, 2.42104215e-04,\n",
       "           2.38030987e-04, 2.34020491e-04, 2.30071954e-04, 2.26184608e-04,\n",
       "           2.22357687e-04, 2.18590427e-04, 2.14882071e-04, 2.11231863e-04,\n",
       "           2.07639052e-04, 2.04102891e-04, 2.00622638e-04, 1.97197554e-04,\n",
       "           1.93826908e-04, 1.90509971e-04, 1.87246019e-04, 1.84034336e-04,\n",
       "           1.80874207e-04, 1.77764927e-04, 1.74705793e-04, 1.71696109e-04,\n",
       "           1.68735186e-04, 1.65822340e-04, 1.62956891e-04, 1.60138168e-04,\n",
       "           1.57365504e-04, 1.54638240e-04, 1.51955722e-04, 1.49317303e-04,\n",
       "           1.46722341e-04, 1.44170202e-04, 1.41660258e-04, 1.39191887e-04,\n",
       "           1.36764475e-04, 1.34377411e-04, 1.32030095e-04, 1.29721931e-04,\n",
       "           1.27452330e-04, 1.25220710e-04, 1.23026496e-04, 1.20869118e-04,\n",
       "           1.18748014e-04, 1.16662629e-04, 1.14612414e-04, 1.12596825e-04,\n",
       "           1.10615327e-04, 1.08667392e-04, 1.06752495e-04, 1.04870121e-04,\n",
       "           1.03019761e-04, 1.01200910e-04, 9.94130735e-05, 9.76557596e-05,\n",
       "           9.59284849e-05, 9.42307718e-05, 9.25621492e-05, 9.09221522e-05,\n",
       "           8.93103220e-05, 8.77262063e-05, 8.61693586e-05, 8.46393389e-05,\n",
       "           8.31357131e-05, 8.16580531e-05, 8.02059368e-05, 7.87789480e-05,\n",
       "           7.73766765e-05, 7.59987178e-05, 7.46446733e-05, 7.33141501e-05,\n",
       "           7.20067608e-05, 7.07221239e-05, 6.94598632e-05, 6.82196082e-05,\n",
       "           6.70009939e-05, 6.58036604e-05, 6.46272534e-05, 6.34714240e-05,\n",
       "           6.23358281e-05, 6.12201272e-05, 6.01239877e-05, 5.90470811e-05,\n",
       "           5.79890840e-05, 5.69496777e-05, 5.59285486e-05, 5.49253879e-05,\n",
       "           5.39398915e-05, 5.29717601e-05, 5.20206990e-05, 5.10864181e-05,\n",
       "           5.01686319e-05, 4.92670592e-05, 4.83814235e-05, 4.75114525e-05,\n",
       "           4.66568782e-05, 4.58174369e-05, 4.49928692e-05, 4.41829196e-05,\n",
       "           4.33873371e-05, 4.26058742e-05, 4.18382878e-05, 4.10843386e-05,\n",
       "           4.03437912e-05, 3.96164139e-05, 3.89019789e-05, 3.82002620e-05,\n",
       "           3.75110428e-05, 3.68341044e-05, 3.61692335e-05, 3.55162203e-05,\n",
       "           3.48748584e-05, 3.42449450e-05, 3.36262805e-05, 3.30186685e-05,\n",
       "           3.24219161e-05, 3.18358335e-05, 3.12602340e-05, 3.06949341e-05,\n",
       "           3.01397534e-05, 2.95945145e-05, 2.90590428e-05, 2.85331669e-05,\n",
       "           2.80167182e-05, 2.75095308e-05, 2.70114418e-05, 2.65222909e-05,\n",
       "           2.60419207e-05, 2.55701763e-05, 2.51069055e-05, 2.46519587e-05,\n",
       "           2.42051887e-05, 2.37664511e-05, 2.33356038e-05, 2.29125070e-05,\n",
       "           2.24970236e-05, 2.20890185e-05, 2.16883592e-05, 2.12949154e-05,\n",
       "           2.09085590e-05, 2.05291641e-05, 2.01566071e-05, 1.97907662e-05,\n",
       "           1.94315222e-05, 1.90787576e-05, 1.87323570e-05, 1.83922070e-05,\n",
       "           1.80581963e-05, 1.77302154e-05, 1.74081568e-05, 1.70919147e-05,\n",
       "           1.67813853e-05, 1.64764666e-05, 1.61770583e-05, 1.58830619e-05,\n",
       "           1.55943807e-05, 1.53109195e-05, 1.50325849e-05, 1.47592851e-05,\n",
       "           1.44909301e-05, 1.42274310e-05, 1.39687011e-05, 1.37146546e-05,\n",
       "           1.34652076e-05, 1.32202777e-05, 1.29797836e-05, 1.27436459e-05,\n",
       "           1.25117862e-05, 1.22841276e-05, 1.20605948e-05, 1.18411134e-05,\n",
       "           0.00000000e+00, 0.00000000e+00, 0.00000000e+00, 0.00000000e+00,\n",
       "           0.00000000e+00, 0.00000000e+00, 0.00000000e+00, 0.00000000e+00,\n",
       "           0.00000000e+00, 0.00000000e+00, 0.00000000e+00, 0.00000000e+00,\n",
       "           0.00000000e+00, 0.00000000e+00, 0.00000000e+00, 0.00000000e+00,\n",
       "           0.00000000e+00, 0.00000000e+00, 0.00000000e+00, 0.00000000e+00,\n",
       "           0.00000000e+00, 0.00000000e+00, 0.00000000e+00, 0.00000000e+00,\n",
       "           0.00000000e+00, 0.00000000e+00, 0.00000000e+00, 0.00000000e+00,\n",
       "           0.00000000e+00, 0.00000000e+00, 0.00000000e+00, 0.00000000e+00,\n",
       "           0.00000000e+00, 0.00000000e+00, 0.00000000e+00, 0.00000000e+00,\n",
       "           0.00000000e+00, 0.00000000e+00, 0.00000000e+00, 0.00000000e+00,\n",
       "           0.00000000e+00, 0.00000000e+00, 0.00000000e+00, 0.00000000e+00,\n",
       "           0.00000000e+00, 0.00000000e+00, 0.00000000e+00, 0.00000000e+00,\n",
       "           0.00000000e+00, 0.00000000e+00, 0.00000000e+00, 0.00000000e+00,\n",
       "           0.00000000e+00, 0.00000000e+00, 0.00000000e+00, 0.00000000e+00,\n",
       "           0.00000000e+00, 0.00000000e+00, 0.00000000e+00, 0.00000000e+00,\n",
       "           0.00000000e+00, 0.00000000e+00, 0.00000000e+00, 0.00000000e+00,\n",
       "           0.00000000e+00, 0.00000000e+00, 0.00000000e+00, 0.00000000e+00,\n",
       "           0.00000000e+00, 0.00000000e+00, 0.00000000e+00, 0.00000000e+00,\n",
       "           0.00000000e+00, 0.00000000e+00, 0.00000000e+00, 0.00000000e+00,\n",
       "           0.00000000e+00, 0.00000000e+00, 0.00000000e+00, 0.00000000e+00,\n",
       "           0.00000000e+00, 0.00000000e+00, 0.00000000e+00, 0.00000000e+00] 1 / cm3>"
      ]
     },
     "execution_count": 16,
     "metadata": {},
     "output_type": "execute_result"
    },
    {
     "data": {
      "image/png": "[encoded data removed]",
      "text/plain": [
       "<Figure size 432x288 with 1 Axes>"
      ]
     },
     "metadata": {
      "needs_background": "light"
     },
     "output_type": "display_data"
    }
   ],
   "source": [
    "plt.loglog(r2,p/n)\n",
    "n"
   ]
  },
  {
   "cell_type": "code",
   "execution_count": 17,
   "metadata": {},
   "outputs": [
    {
     "data": {
      "text/plain": [
       "[<matplotlib.lines.Line2D at 0x181dadacd0>]"
      ]
     },
     "execution_count": 17,
     "metadata": {},
     "output_type": "execute_result"
    },
    {
     "data": {
      "image/png": "[encoded data removed]",
      "text/plain": [
       "<Figure size 432x288 with 1 Axes>"
      ]
     },
     "metadata": {
      "needs_background": "light"
     },
     "output_type": "display_data"
    }
   ],
   "source": [
    "r, m = clust.get_hse_mass_profile()\n",
    "plt.loglog(r,m)"
   ]
  },
  {
   "cell_type": "code",
   "execution_count": 18,
   "metadata": {},
   "outputs": [],
   "source": [
    "r,n = clust.get_normed_density_crp_profile()"
   ]
  },
  {
   "cell_type": "code",
   "execution_count": 19,
   "metadata": {},
   "outputs": [
    {
     "data": {
      "text/plain": [
       "[<matplotlib.lines.Line2D at 0x181dcd2b90>]"
      ]
     },
     "execution_count": 19,
     "metadata": {},
     "output_type": "execute_result"
    },
    {
     "data": {
      "image/png": "[encoded data removed]",
      "text/plain": [
       "<Figure size 432x288 with 1 Axes>"
      ]
     },
     "metadata": {
      "needs_background": "light"
     },
     "output_type": "display_data"
    }
   ],
   "source": [
    "plt.loglog(r,n)"
   ]
  },
  {
   "cell_type": "code",
   "execution_count": 20,
   "metadata": {},
   "outputs": [
    {
     "data": {
      "text/plain": [
       "(<Quantity [1.00000000e+00, 1.00926219e+00, 1.01861017e+00, 1.02804473e+00,\n",
       "            1.03756668e+00, 1.04717682e+00, 1.05687597e+00, 1.06666496e+00,\n",
       "            1.07654461e+00, 1.08651577e+00, 1.09657929e+00, 1.10673602e+00,\n",
       "            1.11698682e+00, 1.12733256e+00, 1.13777413e+00, 1.14831241e+00,\n",
       "            1.15894830e+00, 1.16968270e+00, 1.18051653e+00, 1.19145070e+00,\n",
       "            1.20248614e+00, 1.21362380e+00, 1.22486461e+00, 1.23620954e+00,\n",
       "            1.24765955e+00, 1.25921561e+00, 1.27087871e+00, 1.28264983e+00,\n",
       "            1.29452998e+00, 1.30652016e+00, 1.31862140e+00, 1.33083472e+00,\n",
       "            1.34316117e+00, 1.35560179e+00, 1.36815763e+00, 1.38082977e+00,\n",
       "            1.39361927e+00, 1.40652724e+00, 1.41955477e+00, 1.43270295e+00,\n",
       "            1.44597292e+00, 1.45936580e+00, 1.47288272e+00, 1.48652484e+00,\n",
       "            1.50029332e+00, 1.51418933e+00, 1.52821404e+00, 1.54236865e+00,\n",
       "            1.55665436e+00, 1.57107239e+00, 1.58562396e+00, 1.60031031e+00,\n",
       "            1.61513269e+00, 1.63009236e+00, 1.64519059e+00, 1.66042866e+00,\n",
       "            1.67580786e+00, 1.69132952e+00, 1.70699493e+00, 1.72280545e+00,\n",
       "            1.73876240e+00, 1.75486715e+00, 1.77112106e+00, 1.78752553e+00,\n",
       "            1.80408193e+00, 1.82079168e+00, 1.83765620e+00, 1.85467692e+00,\n",
       "            1.87185529e+00, 1.88919278e+00, 1.90669084e+00, 1.92435098e+00,\n",
       "            1.94217468e+00, 1.96016347e+00, 1.97831888e+00, 1.99664245e+00,\n",
       "            2.01513573e+00, 2.03380031e+00, 2.05263775e+00, 2.07164968e+00,\n",
       "            2.09083769e+00, 2.11020343e+00, 2.12974854e+00, 2.14947467e+00,\n",
       "            2.16938352e+00, 2.18947676e+00, 2.20975611e+00, 2.23022330e+00,\n",
       "            2.25088005e+00, 2.27172813e+00, 2.29276931e+00, 2.31400538e+00,\n",
       "            2.33543814e+00, 2.35706941e+00, 2.37890104e+00, 2.40093488e+00,\n",
       "            2.42317279e+00, 2.44561668e+00, 2.46826845e+00, 2.49113003e+00,\n",
       "            2.51420335e+00, 2.53749038e+00, 2.56099310e+00, 2.58471351e+00,\n",
       "            2.60865362e+00, 2.63281547e+00, 2.65720111e+00, 2.68181261e+00,\n",
       "            2.70665207e+00, 2.73172160e+00, 2.75702333e+00, 2.78255940e+00,\n",
       "            2.80833200e+00, 2.83434331e+00, 2.86059554e+00, 2.88709092e+00,\n",
       "            2.91383170e+00, 2.94082017e+00, 2.96805861e+00, 2.99554933e+00,\n",
       "            3.02329468e+00, 3.05129702e+00, 3.07955871e+00, 3.10808217e+00,\n",
       "            3.13686982e+00, 3.16592411e+00, 3.19524751e+00, 3.22484250e+00,\n",
       "            3.25471161e+00, 3.28485737e+00, 3.31528234e+00, 3.34598912e+00,\n",
       "            3.37698031e+00, 3.40825855e+00, 3.43982649e+00, 3.47168682e+00,\n",
       "            3.50384225e+00, 3.53629550e+00, 3.56904935e+00, 3.60210656e+00,\n",
       "            3.63546996e+00, 3.66914238e+00, 3.70312668e+00, 3.73742574e+00,\n",
       "            3.77204249e+00, 3.80697987e+00, 3.84224085e+00, 3.87782841e+00,\n",
       "            3.91374560e+00, 3.94999546e+00, 3.98658107e+00, 4.02350555e+00,\n",
       "            4.06077203e+00, 4.09838367e+00, 4.13634368e+00, 4.17465529e+00,\n",
       "            4.21332174e+00, 4.25234633e+00, 4.29173238e+00, 4.33148322e+00,\n",
       "            4.37160225e+00, 4.41209286e+00, 4.45295851e+00, 4.49420266e+00,\n",
       "            4.53582883e+00, 4.57784054e+00, 4.62024137e+00, 4.66303493e+00,\n",
       "            4.70622485e+00, 4.74981480e+00, 4.79380850e+00, 4.83820966e+00,\n",
       "            4.88302209e+00, 4.92824957e+00, 4.97389596e+00, 5.01996513e+00,\n",
       "            5.06646101e+00, 5.11338754e+00, 5.16074871e+00, 5.20854855e+00,\n",
       "            5.25679112e+00, 5.30548053e+00, 5.35462090e+00, 5.40421642e+00,\n",
       "            5.45427131e+00, 5.50478981e+00, 5.55577622e+00, 5.60723488e+00,\n",
       "            5.65917016e+00, 5.71158648e+00, 5.76448828e+00, 5.81788007e+00,\n",
       "            5.87176639e+00, 5.92615181e+00, 5.98104096e+00, 6.03643851e+00,\n",
       "            6.09234915e+00, 6.14877765e+00, 6.20572881e+00, 6.26320745e+00,\n",
       "            6.32121848e+00, 6.37976681e+00, 6.43885743e+00, 6.49849535e+00,\n",
       "            6.55868566e+00, 6.61943346e+00, 6.68074392e+00, 6.74262224e+00,\n",
       "            6.80507370e+00, 6.86810359e+00, 6.93171728e+00, 6.99592017e+00,\n",
       "            7.06071771e+00, 7.12611543e+00, 7.19211887e+00, 7.25873365e+00,\n",
       "            7.32596543e+00, 7.39381992e+00, 7.46230289e+00, 7.53142017e+00,\n",
       "            7.60117762e+00, 7.67158118e+00, 7.74263683e+00, 7.81435061e+00,\n",
       "            7.88672862e+00, 7.95977700e+00, 8.03350198e+00, 8.10790981e+00,\n",
       "            8.18300682e+00, 8.25879939e+00, 8.33529397e+00, 8.41249705e+00,\n",
       "            8.49041520e+00, 8.56905505e+00, 8.64842328e+00, 8.72852662e+00,\n",
       "            8.80937190e+00, 8.89096599e+00, 8.97331581e+00, 9.05642838e+00,\n",
       "            9.14031075e+00, 9.22497005e+00, 9.31041349e+00, 9.39664831e+00,\n",
       "            9.48368187e+00, 9.57152154e+00, 9.66017480e+00, 9.74964918e+00,\n",
       "            9.83995230e+00, 9.93109181e+00, 1.00230755e+01, 1.01159111e+01,\n",
       "            1.02096066e+01, 1.03041699e+01, 1.03996091e+01, 1.04959323e+01,\n",
       "            1.05931476e+01, 1.06912634e+01, 1.07902879e+01, 1.08902296e+01,\n",
       "            1.09910970e+01, 1.10928986e+01, 1.11956432e+01, 1.12993394e+01,\n",
       "            1.14039960e+01, 1.15096220e+01, 1.16162263e+01, 1.17238180e+01,\n",
       "            1.18324063e+01, 1.19420003e+01, 1.20526094e+01, 1.21642429e+01,\n",
       "            1.22769105e+01, 1.23906216e+01, 1.25053859e+01, 1.26212131e+01,\n",
       "            1.27381132e+01, 1.28560961e+01, 1.29751717e+01, 1.30953502e+01,\n",
       "            1.32166418e+01, 1.33390569e+01, 1.34626058e+01, 1.35872990e+01,\n",
       "            1.37131472e+01, 1.38401610e+01, 1.39683512e+01, 1.40977287e+01,\n",
       "            1.42283046e+01, 1.43600898e+01, 1.44930957e+01, 1.46273336e+01,\n",
       "            1.47628147e+01, 1.48995507e+01, 1.50375532e+01, 1.51768339e+01,\n",
       "            1.53174046e+01, 1.54592774e+01, 1.56024641e+01, 1.57469771e+01,\n",
       "            1.58928287e+01, 1.60400311e+01, 1.61885969e+01, 1.63385388e+01,\n",
       "            1.64898694e+01, 1.66426018e+01, 1.67967487e+01, 1.69523234e+01,\n",
       "            1.71093391e+01, 1.72678090e+01, 1.74277468e+01, 1.75891659e+01,\n",
       "            1.77520801e+01, 1.79165033e+01, 1.80824493e+01, 1.82499324e+01,\n",
       "            1.84189668e+01, 1.85895668e+01, 1.87617469e+01, 1.89355218e+01,\n",
       "            1.91109062e+01, 1.92879151e+01, 1.94665634e+01, 1.96468665e+01,\n",
       "            1.98288395e+01, 2.00124980e+01, 2.01978576e+01, 2.03849340e+01,\n",
       "            2.05737431e+01, 2.07643011e+01, 2.09566240e+01, 2.11507282e+01,\n",
       "            2.13466303e+01, 2.15443469e+01, 2.17438948e+01, 2.19452909e+01,\n",
       "            2.21485523e+01, 2.23536965e+01, 2.25607407e+01, 2.27697026e+01,\n",
       "            2.29805999e+01, 2.31934506e+01, 2.34082728e+01, 2.36250847e+01,\n",
       "            2.38439047e+01, 2.40647515e+01, 2.42876438e+01, 2.45126006e+01,\n",
       "            2.47396410e+01, 2.49687843e+01, 2.52000499e+01, 2.54334576e+01,\n",
       "            2.56690272e+01, 2.59067786e+01, 2.61467321e+01, 2.63889081e+01,\n",
       "            2.66333273e+01, 2.68800102e+01, 2.71289780e+01, 2.73802518e+01,\n",
       "            2.76338529e+01, 2.78898029e+01, 2.81481236e+01, 2.84088369e+01,\n",
       "            2.86719650e+01, 2.89375302e+01, 2.92055551e+01, 2.94760626e+01,\n",
       "            2.97490755e+01, 3.00246171e+01, 3.03027108e+01, 3.05833803e+01,\n",
       "            3.08666494e+01, 3.11525422e+01, 3.14410830e+01, 3.17322963e+01,\n",
       "            3.20262069e+01, 3.23228398e+01, 3.26222201e+01, 3.29243733e+01,\n",
       "            3.32293252e+01, 3.35371015e+01, 3.38477286e+01, 3.41612327e+01,\n",
       "            3.44776405e+01, 3.47969790e+01, 3.51192753e+01, 3.54445567e+01,\n",
       "            3.57728510e+01, 3.61041860e+01, 3.64385898e+01, 3.67760910e+01,\n",
       "            3.71167182e+01, 3.74605003e+01, 3.78074666e+01, 3.81576466e+01,\n",
       "            3.85110700e+01, 3.88677669e+01, 3.92277676e+01, 3.95911027e+01,\n",
       "            3.99578030e+01, 4.03278998e+01, 4.07014245e+01, 4.10784089e+01,\n",
       "            4.14588850e+01, 4.18428851e+01, 4.22304419e+01, 4.26215883e+01,\n",
       "            4.30163576e+01, 4.34147833e+01, 4.38168993e+01, 4.42227398e+01,\n",
       "            4.46323393e+01, 4.50457325e+01, 4.54629547e+01, 4.58840413e+01,\n",
       "            4.63090280e+01, 4.67379511e+01, 4.71708469e+01, 4.76077523e+01,\n",
       "            4.80487044e+01, 4.84937407e+01, 4.89428990e+01, 4.93962174e+01,\n",
       "            4.98537346e+01, 5.03154895e+01, 5.07815211e+01, 5.12518693e+01,\n",
       "            5.17265739e+01, 5.22056753e+01, 5.26892142e+01, 5.31772318e+01,\n",
       "            5.36697695e+01, 5.41668691e+01, 5.46685730e+01, 5.51749238e+01,\n",
       "            5.56859644e+01, 5.62017385e+01, 5.67222897e+01, 5.72476624e+01,\n",
       "            5.77779012e+01, 5.83130511e+01, 5.88531578e+01, 5.93982669e+01,\n",
       "            5.99484250e+01, 6.05036788e+01, 6.10640754e+01, 6.16296626e+01,\n",
       "            6.22004883e+01, 6.27766011e+01, 6.33580499e+01, 6.39448843e+01,\n",
       "            6.45371540e+01, 6.51349095e+01, 6.57382014e+01, 6.63470812e+01,\n",
       "            6.69616005e+01, 6.75818117e+01, 6.82077673e+01, 6.88395207e+01,\n",
       "            6.94771255e+01, 7.01206359e+01, 7.07701066e+01, 7.14255929e+01,\n",
       "            7.20871503e+01, 7.27548353e+01, 7.34287045e+01, 7.41088152e+01,\n",
       "            7.47952252e+01, 7.54879928e+01, 7.61871770e+01, 7.68928372e+01,\n",
       "            7.76050334e+01, 7.83238260e+01, 7.90492762e+01, 7.97814457e+01,\n",
       "            8.05203967e+01, 8.12661920e+01, 8.20188950e+01, 8.27785697e+01,\n",
       "            8.35452806e+01, 8.43190929e+01, 8.51000725e+01, 8.58882856e+01,\n",
       "            8.66837993e+01, 8.74866812e+01, 8.82969996e+01, 8.91148232e+01,\n",
       "            8.99402217e+01, 9.07732653e+01, 9.16140246e+01, 9.24625712e+01,\n",
       "            9.33189772e+01, 9.41833153e+01, 9.50556592e+01, 9.59360829e+01,\n",
       "            9.68246612e+01, 9.77214697e+01, 9.86265846e+01, 9.95400829e+01,\n",
       "            1.00462042e+02, 1.01392541e+02, 1.02331658e+02, 1.03279473e+02,\n",
       "            1.04236067e+02, 1.05201522e+02, 1.06175918e+02, 1.07159340e+02,\n",
       "            1.08151870e+02, 1.09153594e+02, 1.10164595e+02, 1.11184960e+02,\n",
       "            1.12214777e+02, 1.13254132e+02, 1.14303113e+02, 1.15361810e+02,\n",
       "            1.16430313e+02, 1.17508713e+02, 1.18597101e+02, 1.19695570e+02,\n",
       "            1.20804213e+02, 1.21923125e+02, 1.23052400e+02, 1.24192135e+02,\n",
       "            1.25342427e+02, 1.26503372e+02, 1.27675070e+02, 1.28857621e+02,\n",
       "            1.30051125e+02, 1.31255684e+02, 1.32471399e+02, 1.33698374e+02,\n",
       "            1.34936714e+02, 1.36186524e+02, 1.37447909e+02, 1.38720978e+02,\n",
       "            1.40005838e+02, 1.41302599e+02, 1.42611371e+02, 1.43932264e+02,\n",
       "            1.45265393e+02, 1.46610868e+02, 1.47968806e+02, 1.49339322e+02,\n",
       "            1.50722531e+02, 1.52118552e+02, 1.53527503e+02, 1.54949504e+02,\n",
       "            1.56384676e+02, 1.57833141e+02, 1.59295021e+02, 1.60770442e+02,\n",
       "            1.62259529e+02, 1.63762407e+02, 1.65279206e+02, 1.66810054e+02,\n",
       "            1.68355080e+02, 1.69914417e+02, 1.71488197e+02, 1.73076553e+02,\n",
       "            1.74679622e+02, 1.76297538e+02, 1.77930439e+02, 1.79578465e+02,\n",
       "            1.81241755e+02, 1.82920450e+02, 1.84614695e+02, 1.86324631e+02,\n",
       "            1.88050406e+02, 1.89792164e+02, 1.91550056e+02, 1.93324229e+02,\n",
       "            1.95114835e+02, 1.96922026e+02, 1.98745955e+02, 2.00586778e+02,\n",
       "            2.02444651e+02, 2.04319732e+02, 2.06212180e+02, 2.08122157e+02,\n",
       "            2.10049824e+02, 2.11995346e+02, 2.13958887e+02, 2.15940615e+02,\n",
       "            2.17940698e+02, 2.19959307e+02, 2.21996612e+02, 2.24052787e+02,\n",
       "            2.26128007e+02, 2.28222447e+02, 2.30336287e+02, 2.32469706e+02,\n",
       "            2.34622885e+02, 2.36796007e+02, 2.38989257e+02, 2.41202821e+02,\n",
       "            2.43436887e+02, 2.45691646e+02, 2.47967289e+02, 2.50264010e+02,\n",
       "            2.52582003e+02, 2.54921465e+02, 2.57282597e+02, 2.59665597e+02,\n",
       "            2.62070670e+02, 2.64498018e+02, 2.66947849e+02, 2.69420371e+02,\n",
       "            2.71915794e+02, 2.74434330e+02, 2.76976194e+02, 2.79541600e+02,\n",
       "            2.82130768e+02, 2.84743917e+02, 2.87381269e+02, 2.90043049e+02,\n",
       "            2.92729484e+02, 2.95440800e+02, 2.98177229e+02, 3.00939003e+02,\n",
       "            3.03726358e+02, 3.06539530e+02, 3.09378757e+02, 3.12244282e+02,\n",
       "            3.15136348e+02, 3.18055202e+02, 3.21001090e+02, 3.23974263e+02,\n",
       "            3.26974974e+02, 3.30003479e+02, 3.33060034e+02, 3.36144900e+02,\n",
       "            3.39258338e+02, 3.42400614e+02, 3.45571994e+02, 3.48772747e+02,\n",
       "            3.52003147e+02, 3.55263468e+02, 3.58553986e+02, 3.61874981e+02,\n",
       "            3.65226736e+02, 3.68609536e+02, 3.72023668e+02, 3.75469422e+02,\n",
       "            3.78947092e+02, 3.82456972e+02, 3.85999362e+02, 3.89574562e+02,\n",
       "            3.93182876e+02, 3.96824610e+02, 4.00500076e+02, 4.04209584e+02,\n",
       "            4.07953450e+02, 4.11731993e+02, 4.15545533e+02, 4.19394396e+02,\n",
       "            4.23278907e+02, 4.27199397e+02, 4.31156199e+02, 4.35149650e+02,\n",
       "            4.39180089e+02, 4.43247859e+02, 4.47353305e+02, 4.51496777e+02,\n",
       "            4.55678627e+02, 4.59899209e+02, 4.64158883e+02, 4.68458012e+02,\n",
       "            4.72796959e+02, 4.77176095e+02, 4.81595791e+02, 4.86056423e+02,\n",
       "            4.90558371e+02, 4.95102016e+02, 4.99687745e+02, 5.04315949e+02,\n",
       "            5.08987019e+02, 5.13701354e+02, 5.18459354e+02, 5.23261424e+02,\n",
       "            5.28107971e+02, 5.32999408e+02, 5.37936150e+02, 5.42918618e+02,\n",
       "            5.47947234e+02, 5.53022426e+02, 5.58144625e+02, 5.63314267e+02,\n",
       "            5.68531791e+02, 5.73797641e+02, 5.79112265e+02, 5.84476113e+02,\n",
       "            5.89889643e+02, 5.95353313e+02, 6.00867589e+02, 6.06432940e+02,\n",
       "            6.12049837e+02, 6.17718760e+02, 6.23440189e+02, 6.29214611e+02,\n",
       "            6.35042517e+02, 6.40924402e+02, 6.46860766e+02, 6.52852114e+02,\n",
       "            6.58898955e+02, 6.65001803e+02, 6.71161177e+02, 6.77377600e+02,\n",
       "            6.83651600e+02, 6.89983712e+02, 6.96374473e+02, 7.02824426e+02,\n",
       "            7.09334120e+02, 7.15904109e+02, 7.22534949e+02, 7.29227206e+02,\n",
       "            7.35981448e+02, 7.42798248e+02, 7.49678187e+02, 7.56621850e+02,\n",
       "            7.63629826e+02, 7.70702711e+02, 7.77841107e+02, 7.85045620e+02,\n",
       "            7.92316862e+02, 7.99655453e+02, 8.07062014e+02, 8.14537177e+02,\n",
       "            8.22081576e+02, 8.29695852e+02, 8.37380654e+02, 8.45136633e+02,\n",
       "            8.52964450e+02, 8.60864770e+02, 8.68838264e+02, 8.76885609e+02,\n",
       "            8.85007491e+02, 8.93204600e+02, 9.01477631e+02, 9.09827289e+02,\n",
       "            9.18254284e+02, 9.26759330e+02, 9.35343152e+02, 9.44006479e+02,\n",
       "            9.52750047e+02, 9.61574600e+02, 9.70480888e+02, 9.79469667e+02,\n",
       "            9.88541702e+02, 9.97697764e+02, 1.00693863e+03, 1.01626509e+03,\n",
       "            1.02567793e+03, 1.03517796e+03, 1.04476597e+03, 1.05444279e+03,\n",
       "            1.06420924e+03, 1.07406615e+03, 1.08401436e+03, 1.09405471e+03,\n",
       "            1.10418805e+03, 1.11441525e+03, 1.12473718e+03, 1.13515471e+03,\n",
       "            1.14566873e+03, 1.15628013e+03, 1.16698982e+03, 1.17779870e+03,\n",
       "            1.18870770e+03, 1.19971774e+03, 1.21082975e+03, 1.22204469e+03,\n",
       "            1.23336350e+03, 1.24478715e+03, 1.25631660e+03, 1.26795285e+03,\n",
       "            1.27969687e+03, 1.29154967e+03, 1.30351224e+03, 1.31558562e+03,\n",
       "            1.32777083e+03, 1.34006890e+03, 1.35248087e+03, 1.36500781e+03,\n",
       "            1.37765077e+03, 1.39041083e+03, 1.40328908e+03, 1.41628662e+03,\n",
       "            1.42940453e+03, 1.44264395e+03, 1.45600600e+03, 1.46949180e+03,\n",
       "            1.48310251e+03, 1.49683929e+03, 1.51070330e+03, 1.52469573e+03,\n",
       "            1.53881775e+03, 1.55307057e+03, 1.56745541e+03, 1.58197348e+03,\n",
       "            1.59662602e+03, 1.61141428e+03, 1.62633950e+03, 1.64140297e+03,\n",
       "            1.65660596e+03, 1.67194976e+03, 1.68743568e+03, 1.70306503e+03,\n",
       "            1.71883914e+03, 1.73475936e+03, 1.75082703e+03, 1.76704353e+03,\n",
       "            1.78341022e+03, 1.79992851e+03, 1.81659979e+03, 1.83342548e+03,\n",
       "            1.85040702e+03, 1.86754584e+03, 1.88484341e+03, 1.90230119e+03,\n",
       "            1.91992067e+03, 1.93770334e+03, 1.95565072e+03, 1.97376433e+03,\n",
       "            1.99204571e+03, 2.01049642e+03, 2.02911802e+03, 2.04791210e+03,\n",
       "            2.06688025e+03, 2.08602409e+03, 2.10534524e+03, 2.12484535e+03,\n",
       "            2.14452608e+03, 2.16438909e+03, 2.18443607e+03, 2.20466874e+03,\n",
       "            2.22508880e+03, 2.24569800e+03, 2.26649808e+03, 2.28749082e+03,\n",
       "            2.30867799e+03, 2.33006141e+03, 2.35164288e+03, 2.37342425e+03,\n",
       "            2.39540736e+03, 2.41759408e+03, 2.43998630e+03, 2.46258592e+03,\n",
       "            2.48539486e+03, 2.50841506e+03, 2.53164848e+03, 2.55509709e+03,\n",
       "            2.57876289e+03, 2.60264788e+03, 2.62675410e+03, 2.65108360e+03,\n",
       "            2.67563844e+03, 2.70042072e+03, 2.72543253e+03, 2.75067601e+03,\n",
       "            2.77615329e+03, 2.80186656e+03, 2.82781798e+03, 2.85400977e+03,\n",
       "            2.88044415e+03, 2.90712338e+03, 2.93404971e+03, 2.96122544e+03,\n",
       "            2.98865287e+03, 3.01633435e+03, 3.04427221e+03, 3.07246884e+03,\n",
       "            3.10092664e+03, 3.12964801e+03, 3.15863541e+03, 3.18789129e+03,\n",
       "            3.21741815e+03, 3.24721849e+03, 3.27729485e+03, 3.30764978e+03,\n",
       "            3.33828586e+03, 3.36920571e+03, 3.40041193e+03, 3.43190720e+03,\n",
       "            3.46369418e+03, 3.49577557e+03, 3.52815412e+03, 3.56083255e+03,\n",
       "            3.59381366e+03, 3.62710025e+03, 3.66069515e+03, 3.69460121e+03,\n",
       "            3.72882131e+03, 3.76335836e+03, 3.79821531e+03, 3.83339510e+03,\n",
       "            3.86890074e+03, 3.90473524e+03, 3.94090164e+03, 3.97740302e+03,\n",
       "            4.01424249e+03, 4.05142317e+03, 4.08894823e+03, 4.12682085e+03,\n",
       "            4.16504425e+03, 4.20362168e+03, 4.24255643e+03, 4.28185180e+03,\n",
       "            4.32151113e+03, 4.36153779e+03, 4.40193519e+03, 4.44270675e+03,\n",
       "            4.48385595e+03, 4.52538628e+03, 4.56730127e+03, 4.60960449e+03,\n",
       "            4.65229952e+03, 4.69539001e+03, 4.73887961e+03, 4.78277202e+03,\n",
       "            4.82707097e+03, 4.87178022e+03, 4.91690358e+03, 4.96244488e+03,\n",
       "            5.00840799e+03, 5.05479682e+03, 5.10161531e+03, 5.14886745e+03,\n",
       "            5.19655724e+03, 5.24468875e+03, 5.29326606e+03, 5.34229330e+03,\n",
       "            5.39177464e+03, 5.44171429e+03, 5.49211648e+03, 5.54298552e+03,\n",
       "            5.59432571e+03, 5.64614142e+03, 5.69843706e+03, 5.75121707e+03,\n",
       "            5.80448594e+03, 5.85824820e+03, 5.91250841e+03, 5.96727120e+03,\n",
       "            6.02254120e+03, 6.07832313e+03, 6.13462172e+03, 6.19144176e+03,\n",
       "            6.24878807e+03, 6.30666554e+03, 6.36507908e+03, 6.42403366e+03,\n",
       "            6.48353429e+03, 6.54358602e+03, 6.60419396e+03, 6.66536327e+03,\n",
       "            6.72709914e+03, 6.78940681e+03, 6.85229160e+03, 6.91575883e+03,\n",
       "            6.97981391e+03, 7.04446228e+03, 7.10970943e+03, 7.17556092e+03,\n",
       "            7.24202233e+03, 7.30909933e+03, 7.37679760e+03, 7.44512291e+03,\n",
       "            7.51408106e+03, 7.58367791e+03, 7.65391939e+03, 7.72481145e+03,\n",
       "            7.79636013e+03, 7.86857151e+03, 7.94145172e+03, 8.01500696e+03,\n",
       "            8.08924349e+03, 8.16416760e+03, 8.23978568e+03, 8.31610415e+03,\n",
       "            8.39312950e+03, 8.47086827e+03, 8.54932707e+03, 8.62851257e+03,\n",
       "            8.70843150e+03, 8.78909065e+03, 8.87049689e+03, 8.95265713e+03,\n",
       "            9.03557835e+03, 9.11926760e+03, 9.20373200e+03, 9.28897872e+03,\n",
       "            9.37501502e+03, 9.46184819e+03, 9.54948564e+03, 9.63793480e+03,\n",
       "            9.72720319e+03, 9.81729841e+03, 9.90822810e+03, 1.00000000e+04] kpc>,\n",
       " <Quantity [5999.92865721, 5999.92732952, 5999.92597713, 5999.92459957,\n",
       "            5999.92319637, 5999.92176706, 5999.92031115, 5999.91882815,\n",
       "            5999.91731755, 5999.91577884, 5999.91421149, 5999.91261497,\n",
       "            5999.91098875, 5999.90933226, 5999.90764494, 5999.90592623,\n",
       "            5999.90417553, 5999.90239224, 5999.90057578, 5999.89872551,\n",
       "            5999.8968408 , 5999.89492103, 5999.89296552, 5999.89097363,\n",
       "            5999.88894467, 5999.88687795, 5999.88477277, 5999.88262841,\n",
       "            5999.88044415, 5999.87821924, 5999.87595293, 5999.87364444,\n",
       "            5999.87129299, 5999.86889778, 5999.866458  , 5999.86397282,\n",
       "            5999.86144139, 5999.85886285, 5999.85623633, 5999.85356093,\n",
       "            5999.85083574, 5999.84805984, 5999.84523228, 5999.8423521 ,\n",
       "            5999.83941833, 5999.83642995, 5999.83338597, 5999.83028534,\n",
       "            5999.82712702, 5999.82390992, 5999.82063295, 5999.817295  ,\n",
       "            5999.81389493, 5999.81043159, 5999.80690381, 5999.80331037,\n",
       "            5999.79965007, 5999.79592165, 5999.79212385, 5999.78825537,\n",
       "            5999.78431491, 5999.78030112, 5999.77621264, 5999.77204808,\n",
       "            5999.76780602, 5999.76348502, 5999.75908361, 5999.7546003 ,\n",
       "            5999.75003356, 5999.74538184, 5999.74064356, 5999.7358171 ,\n",
       "            5999.73090083, 5999.72589308, 5999.72079214, 5999.71559628,\n",
       "            5999.71030374, 5999.7049127 , 5999.69942136, 5999.69382782,\n",
       "            5999.6881302 , 5999.68232656, 5999.67641492, 5999.67039328,\n",
       "            5999.66425958, 5999.65801175, 5999.65164766, 5999.64516515,\n",
       "            5999.63856201, 5999.631836  , 5999.62498484, 5999.61800618,\n",
       "            5999.61089767, 5999.60365689, 5999.59628138, 5999.58876862,\n",
       "            5999.58111607, 5999.57332112, 5999.56538113, 5999.55729339,\n",
       "            5999.54905517, 5999.54066365, 5999.53211599, 5999.52340928,\n",
       "            5999.51454056, 5999.50550683, 5999.496305  , 5999.48693195,\n",
       "            5999.4773845 , 5999.4676594 , 5999.45775334, 5999.44766297,\n",
       "            5999.43738485, 5999.42691548, 5999.41625132, 5999.40538873,\n",
       "            5999.39432403, 5999.38305346, 5999.37157318, 5999.3598793 ,\n",
       "            5999.34796784, 5999.33583475, 5999.32347592, 5999.31088714,\n",
       "            5999.29806413, 5999.28500254, 5999.27169793, 5999.25814578,\n",
       "            5999.24434149, 5999.23028036, 5999.21595762, 5999.2013684 ,\n",
       "            5999.18650774, 5999.1713706 , 5999.15595184, 5999.14024621,\n",
       "            5999.12424838, 5999.10795292, 5999.09135428, 5999.07444684,\n",
       "            5999.05722484, 5999.03968244, 5999.02181369, 5999.00361249,\n",
       "            5998.98507269, 5998.96618797, 5998.94695193, 5998.92735803,\n",
       "            5998.90739962, 5998.88706991, 5998.86636201, 5998.84526887,\n",
       "            5998.82378334, 5998.80189812, 5998.77960578, 5998.75689874,\n",
       "            5998.73376929, 5998.71020959, 5998.68621163, 5998.66176725,\n",
       "            5998.63686817, 5998.61150593, 5998.58567191, 5998.55935734,\n",
       "            5998.53255329, 5998.50525067, 5998.47744018, 5998.44911241,\n",
       "            5998.42025773, 5998.39086634, 5998.36092827, 5998.33043335,\n",
       "            5998.29937124, 5998.26773139, 5998.23550306, 5998.2026753 ,\n",
       "            5998.16923699, 5998.13517677, 5998.10048308, 5998.06514415,\n",
       "            5998.02914798, 5997.99248236, 5997.95513484, 5997.91709277,\n",
       "            5997.87834322, 5997.83887304, 5997.79866886, 5997.75771702,\n",
       "            5997.71600364, 5997.67351456, 5997.63023537, 5997.58615139,\n",
       "            5997.54124767, 5997.49550897, 5997.44891978, 5997.4014643 ,\n",
       "            5997.35312645, 5997.30388981, 5997.25373771, 5997.20265313,\n",
       "            5997.15061875, 5997.09761693, 5997.0436297 , 5996.98863876,\n",
       "            5996.93262547, 5996.87557083, 5996.81745551, 5996.75825982,\n",
       "            5996.69796369, 5996.63654668, 5996.57398798, 5996.5102664 ,\n",
       "            5996.44536034, 5996.37924781, 5996.31190641, 5996.24331334,\n",
       "            5996.17344535, 5996.10227877, 5996.02978952, 5995.95595302,\n",
       "            5995.88074429, 5995.80413785, 5995.72610776, 5995.64662761,\n",
       "            5995.56567049, 5995.48320898, 5995.39921519, 5995.31366068,\n",
       "            5995.22651649, 5995.13775314, 5995.04734059, 5994.95524825,\n",
       "            5994.86144497, 5994.76589901, 5994.66857805, 5994.56944918,\n",
       "            5994.46847888, 5994.365633  , 5994.26087677, 5994.15417477,\n",
       "            5994.04549093, 5993.93478853, 5993.82203013, 5993.70717765,\n",
       "            5993.59019226, 5993.47103445, 5993.34966397, 5993.22603981,\n",
       "            5993.10012023, 5992.97186271, 5992.84122393, 5992.7081598 ,\n",
       "            5992.5726254 , 5992.43457498, 5992.29396196, 5992.15073889,\n",
       "            5992.00485746, 5991.85626845, 5991.70492175, 5991.55076632,\n",
       "            5991.39375018, 5991.23382041, 5991.0709231 , 5990.90500335,\n",
       "            5990.73600525, 5990.56387187, 5990.38854523, 5990.20996628,\n",
       "            5990.02807489, 5989.84280983, 5989.65410873, 5989.4619081 ,\n",
       "            5989.26614326, 5989.06674837, 5988.86365634, 5988.65679891,\n",
       "            5988.4461065 , 5988.23150832, 5988.01293225, 5987.79030484,\n",
       "            5987.56355131, 5987.33259552, 5987.09735991, 5986.85776554,\n",
       "            5986.61373199, 5986.36517738, 5986.11201835, 5985.85417   ,\n",
       "            5985.59154588, 5985.32405797, 5985.05161665, 5984.77413065,\n",
       "            5984.49150703, 5984.20365118, 5983.91046676, 5983.61185565,\n",
       "            5983.30771798, 5982.99795205, 5982.68245428, 5982.36111926,\n",
       "            5982.03383963, 5981.70050607, 5981.36100732, 5981.01523005,\n",
       "            5980.6630589 , 5980.30437643, 5979.93906304, 5979.56699699,\n",
       "            5979.18805433, 5978.80210885, 5978.40903208, 5978.00869322,\n",
       "            5977.60095911, 5977.18569417, 5976.76276039, 5976.33201728,\n",
       "            5975.89332178, 5975.4465283 , 5974.9914886 , 5974.52805177,\n",
       "            5974.05606421, 5973.57536955, 5973.0858086 , 5972.58721933,\n",
       "            5972.07943679, 5971.56229309, 5971.03561733, 5970.49923555,\n",
       "            5969.95297068, 5969.39664249, 5968.83006752, 5968.25305905,\n",
       "            5967.66542704, 5967.06697806, 5966.45751522, 5965.83683816,\n",
       "            5965.20474293, 5964.56102201, 5963.90546414, 5963.23785436,\n",
       "            5962.5579739 , 5961.86560012, 5961.16050643, 5960.44246228,\n",
       "            5959.71123301, 5958.96657988, 5958.20825992, 5957.43602589,\n",
       "            5956.64962623, 5955.84880495, 5955.0333016 , 5954.20285115,\n",
       "            5953.35718397, 5952.49602572, 5951.61909725, 5950.7261146 ,\n",
       "            5949.81678883, 5948.89082603, 5947.94792717, 5946.98778804,\n",
       "            5946.01009919, 5945.01454582, 5944.00080772, 5942.96855915,\n",
       "            5941.91746879, 5940.84719964, 5939.7574089 , 5938.64774795,\n",
       "            5937.5178622 , 5936.36739102, 5935.19596764, 5934.00321908,\n",
       "            5932.78876603, 5931.55222275, 5930.29319701, 5929.01128996,\n",
       "            5927.70609604, 5926.3772029 , 5925.02419125, 5923.64663483,\n",
       "            5922.24410024, 5920.81614689, 5919.36232686, 5917.88218481,\n",
       "            5916.37525789, 5914.8410756 , 5913.27915971, 5911.68902414,\n",
       "            5910.07017487, 5908.42210979, 5906.74431864, 5905.03628286,\n",
       "            5903.29747551, 5901.52736112, 5899.72539564, 5897.89102625,\n",
       "            5896.02369131, 5894.1228202 , 5892.18783324, 5890.21814158,\n",
       "            5888.21314704, 5886.17224204, 5884.09480946, 5881.98022255,\n",
       "            5879.8278448 , 5877.63702979, 5875.40712116, 5873.1374524 ,\n",
       "            5870.82734681, 5868.47611735, 5866.08306652, 5863.64748628,\n",
       "            5861.16865789, 5858.64585185, 5856.07832775, 5853.46533419,\n",
       "            5850.80610862, 5848.09987729, 5845.34585513, 5842.54324561,\n",
       "            5839.69124066, 5836.78902059, 5833.83575393, 5830.83059739,\n",
       "            5827.77269574, 5824.6611817 , 5821.49517586, 5818.27378662,\n",
       "            5814.99611002, 5811.66122977, 5808.26821705, 5804.81613053,\n",
       "            5801.30401622, 5797.73090745, 5794.09582478, 5790.39777591,\n",
       "            5786.63575568, 5782.80874597, 5778.91571564, 5774.95562053,\n",
       "            5770.92740336, 5766.82999376, 5762.66230817, 5758.42324986,\n",
       "            5754.11170889, 5749.72656212, 5745.26667317, 5740.73089246,\n",
       "            5736.11805717, 5731.4269913 , 5726.65650567, 5721.80539794,\n",
       "            5716.87245269, 5711.85644142, 5706.75612262, 5701.57024187,\n",
       "            5696.29753187, 5690.93671254, 5685.48649113, 5679.94556231,\n",
       "            5674.31260831, 5668.58629901, 5662.76529211, 5656.84823329,\n",
       "            5650.83375636, 5644.72048343, 5638.50702512, 5632.19198076,\n",
       "            5625.77393862, 5619.25147612, 5612.62316011, 5605.8875471 ,\n",
       "            5599.04318357, 5592.08860627, 5585.0223425 , 5577.84291048,\n",
       "            5570.54881968, 5563.13857118, 5555.61065807, 5547.96356584,\n",
       "            5540.1957728 , 5532.30575057, 5524.29196445, 5516.15287401,\n",
       "            5507.88693349, 5499.49259241, 5490.96829607, 5482.31248612,\n",
       "            5473.52360118, 5464.60007741, 5455.54034919, 5446.34284973,\n",
       "            5437.00601181, 5427.52826845, 5417.90805362, 5408.14380306,\n",
       "            5398.23395501, 5388.17695103, 5377.97123682, 5367.61526309,\n",
       "            5357.10748643, 5346.44637023, 5335.6303856 , 5324.6580123 ,\n",
       "            5313.52773979, 5302.23806818, 5290.78750929, 5279.17458768,\n",
       "            5267.3978418 , 5255.45582501, 5243.3471068 , 5231.07027389,\n",
       "            5218.62393145, 5206.00670428, 5193.21723807, 5180.25420063,\n",
       "            5167.11628318, 5153.80220165, 5140.31069802, 5126.64054161,\n",
       "            5112.7905305 , 5098.75949288, 5084.54628846, 5070.14980989,\n",
       "            5055.56898419, 5040.80277419, 5025.85018004, 5010.71024062,\n",
       "            4995.3820351 , 4979.86468439, 4964.15735269, 4948.25924895,\n",
       "            4932.16962849, 4915.88779443, 4899.4130993 , 4882.74494653,\n",
       "            4865.88279201, 4848.8261456 , 4831.57457269, 4814.12769571,\n",
       "            4796.48519562, 4778.64681346, 4760.61235181, 4742.3816763 ,\n",
       "            4723.95471703, 4705.33147004, 4686.51199874, 4667.4964353 ,\n",
       "            4648.284982  , 4628.8779126 , 4609.27557364, 4589.47838575,\n",
       "            4569.48684482, 4549.30152327, 4528.92307119, 4508.35221746,\n",
       "            4487.5897708 , 4466.6366208 , 4445.49373892, 4424.16217937,\n",
       "            4402.64307995, 4380.93766291, 4359.04723561, 4336.97319125,\n",
       "            4314.71700942, 4292.28025669, 4269.664587  , 4246.87174212,\n",
       "            4223.90355188, 4200.76193447, 4177.44889656, 4153.96653333,\n",
       "            4130.31702852, 4106.50265429, 4082.52577101, 4058.388827  ,\n",
       "            4034.09435817, 4009.6449875 , 3985.04342457, 3960.29246481,\n",
       "            3935.39498882, 3910.35396151, 3885.17243116, 3859.85352836,\n",
       "            3834.40046494, 3808.81653267, 3783.10510199, 3757.26962057,\n",
       "            3731.31361182, 3705.24067323, 3679.05447473, 3652.75875687,\n",
       "            3626.35732891, 3599.85406692, 3573.25291164, 3546.55786641,\n",
       "            3519.77299488, 3492.90241874, 3465.95031533, 3438.92091517,\n",
       "            3411.81849944, 3384.64739736, 3357.41198352, 3330.11667518,\n",
       "            3302.76592943, 3275.36424038, 3247.91613624, 3220.42617639,\n",
       "            3192.89894836, 3165.33906482, 3137.75116049, 3110.13988909,\n",
       "            3082.50992013, 3054.86593585, 3027.21262797, 2999.55469457,\n",
       "            2971.89683688, 2944.24375604, 2916.60014999, 2888.9707102 ,\n",
       "            2861.36011853, 2833.77304406, 2806.21413992, 2778.68804018,\n",
       "            2751.19935675, 2723.7526763 , 2696.35255724, 2669.00352674,\n",
       "            2641.71007777, 2614.47666616, 2587.30770786, 2560.20757603,\n",
       "            2533.18059839, 2506.23105452, 2479.36317327, 2452.58113023,\n",
       "            2425.88904526, 2399.2909801 , 2372.79093611, 2346.39285198,\n",
       "            2320.10060165, 2293.91799222, 2267.84876198, 2241.89657855,\n",
       "            2216.06503708, 2190.35765854, 2164.77788816, 2139.32909384,\n",
       "            2114.01456484, 2088.83751034, 2063.80105834, 2038.90825444,\n",
       "            2014.16206084, 1989.5653554 , 1965.12093083, 1940.83149389,\n",
       "            1916.6996648 , 1892.72797664, 1868.91887491, 1845.27471714,\n",
       "            1821.79777264, 1798.4902223 , 1775.35415847, 1752.39158494,\n",
       "            1729.60441707, 1706.99448185, 1684.56351821, 1662.31317728,\n",
       "            1640.2450228 , 1618.3605316 , 1596.66109408, 1575.14801486,\n",
       "            1553.82251346, 1532.68572498, 1511.73870095, 1490.98241016,\n",
       "            1470.4177396 , 1450.0454954 , 1429.86640389, 1409.88111263,\n",
       "            1390.09019156, 1370.49413414, 1351.09335859, 1331.88820907,\n",
       "            1312.87895703, 1294.06580248, 1275.44887534, 1257.02823683,\n",
       "            1238.80388086, 1220.77573542, 1202.94366408, 1185.30746742,\n",
       "            1167.86688453, 1150.62159446, 1133.57121777, 1116.71531804,\n",
       "            1100.05340338, 1083.58492796, 1067.30929355, 1051.22585105,\n",
       "            1035.33390204, 1019.6327003 , 1004.12145334,  988.79932392,\n",
       "             973.6654316 ,  958.71885421,  943.95862938,  929.38375602,\n",
       "             914.99319579,  900.78587459,  886.76068397,  872.91648262,\n",
       "             859.25209772,  845.76632642,  832.45793713,  819.32567097,\n",
       "             806.36824305,  793.58434382,  780.97264037,  768.53177768,\n",
       "             756.26037991,  744.15705161,  732.22037893,  720.44893082,\n",
       "             708.84126015,  697.3959049 ,  686.1113892 ,  674.98622448,\n",
       "             664.0189105 ,  653.20793637,  642.55178158,  632.04891697,\n",
       "             621.69780569,  611.49690412,  601.44466281,  591.53952731,\n",
       "             581.77993906,  572.16433621,  562.69115441,  553.35882761,\n",
       "             544.16578882,  535.11047079,  526.19130679,  517.40673123,\n",
       "             508.75518034,  500.23509283,  491.84491046,  483.58307865,\n",
       "             475.44804707,  467.43827013,  459.55220756,  451.78832488,\n",
       "             444.14509389,  436.62099314,  429.21450837,  421.9241329 ,\n",
       "             414.74836808,  407.68572367,  400.73471815,  393.89387914,\n",
       "             387.16174369,  380.5368586 ,  374.01778072,  367.60307722,\n",
       "             361.29132588,  355.08111531,  348.9710452 ,  342.95972655,\n",
       "             337.04578183,  331.22784524,  325.50456283,  319.8745927 ,\n",
       "             314.33660514,  308.88928275,  303.53132062,  298.2614264 ,\n",
       "             293.07832043,  287.98073582,  282.96741855,  278.03712754,\n",
       "             273.18863472,  268.42072507,  263.73219669,  259.12186082,\n",
       "             254.58854187,  250.13107746,  245.74831844,  241.43912885,\n",
       "             237.20238596,  233.03698028,  228.94181549,  224.91580847,\n",
       "             220.95788925,  217.06700099,  213.24209993,  209.48215538,\n",
       "             205.78614962,  202.1530779 ,  198.58194835,  195.07178193,\n",
       "             191.62161238,  188.23048614,  184.89746225,  181.62161232,\n",
       "             178.40202044,  175.23778307,  172.12800899,  169.07181918,\n",
       "             166.06834676,  163.11673688,  160.21614663,  157.36574493,\n",
       "             154.56471245,  151.81224151,  149.10753594,  146.44981104,\n",
       "             143.83829341,  141.27222089,  138.75084241,  136.27341792,\n",
       "             133.83921827,  131.44752507,  129.09763061,  126.78883774,\n",
       "             124.52045975,  122.29182026,  120.10225311,  117.95110224,\n",
       "             115.83772157,  113.7614749 ,  111.72173578,  109.71788741,\n",
       "             107.74932251,  105.81544321,  103.91566095,  102.04939634,\n",
       "             100.21607906,   98.41514775,   96.64604989,   94.90824168,\n",
       "              93.20118795,   91.52436201,   89.87724559,   88.25932868,\n",
       "              86.67010944,   85.10909411,   83.57579685,   82.06973969,\n",
       "              80.59045239,   79.13747232,   77.71034439,   76.30862093,\n",
       "              74.93186156,   73.57963314,   72.2515096 ,   70.94707191,\n",
       "              69.66590793,   68.4076123 ,   67.17178641,   65.95803821,\n",
       "              64.7659822 ,   63.59523926,   62.44543661,   61.31620769,\n",
       "              60.20719206,   59.11803532,   58.04838903,   56.9979106 ,\n",
       "              55.9662632 ,   54.95311569,   53.95814253,   52.98102365,\n",
       "              52.02144446,   51.07909565,   50.15367319,   49.24487823,\n",
       "              48.35241699,   47.47600073,   46.61534561,   45.77017266,\n",
       "              44.94020769,   44.1251812 ,   43.32482834,   42.53888877,\n",
       "              41.76710667,   41.00923061,   40.26501349,   39.53421249,\n",
       "              38.81658897,   38.11190844,   37.41994045,   36.74045855,\n",
       "              36.07324024,   35.41806685,   34.77472354,   34.1429992 ,\n",
       "              33.5226864 ,   32.91358131,   32.31548368,   31.72819674,\n",
       "              31.15152718,   30.58528505,   30.02928373,   29.48333989,\n",
       "              28.94727339,   28.42090725,   27.90406763,   27.39658372,\n",
       "              26.89828772,   26.40901477,   25.92860294,   25.45689314,\n",
       "              24.99372908,   24.53895724,   24.09242681,   23.65398964,\n",
       "               0.        ,    0.        ,    0.        ,    0.        ,\n",
       "               0.        ,    0.        ,    0.        ,    0.        ,\n",
       "               0.        ,    0.        ,    0.        ,    0.        ,\n",
       "               0.        ,    0.        ,    0.        ,    0.        ,\n",
       "               0.        ,    0.        ,    0.        ,    0.        ,\n",
       "               0.        ,    0.        ,    0.        ,    0.        ,\n",
       "               0.        ,    0.        ,    0.        ,    0.        ,\n",
       "               0.        ,    0.        ,    0.        ,    0.        ,\n",
       "               0.        ,    0.        ,    0.        ,    0.        ,\n",
       "               0.        ,    0.        ,    0.        ,    0.        ,\n",
       "               0.        ,    0.        ,    0.        ,    0.        ,\n",
       "               0.        ,    0.        ,    0.        ,    0.        ,\n",
       "               0.        ,    0.        ,    0.        ,    0.        ,\n",
       "               0.        ,    0.        ,    0.        ,    0.        ,\n",
       "               0.        ,    0.        ,    0.        ,    0.        ,\n",
       "               0.        ,    0.        ,    0.        ,    0.        ,\n",
       "               0.        ,    0.        ,    0.        ,    0.        ,\n",
       "               0.        ,    0.        ,    0.        ,    0.        ,\n",
       "               0.        ,    0.        ,    0.        ,    0.        ,\n",
       "               0.        ,    0.        ,    0.        ,    0.        ,\n",
       "               0.        ,    0.        ,    0.        ,    0.        ] uG>)"
      ]
     },
     "execution_count": 20,
     "metadata": {},
     "output_type": "execute_result"
    }
   ],
   "source": [
    "clust.get_magfield_profile()"
   ]
  },
  {
   "cell_type": "code",
   "execution_count": null,
   "metadata": {},
   "outputs": [],
   "source": []
  }
 ],
 "metadata": {
  "kernelspec": {
   "display_name": "Python 2",
   "language": "python",
   "name": "python2"
  },
  "language_info": {
   "codemirror_mode": {
    "name": "ipython",
    "version": 2
   },
   "file_extension": ".py",
   "mimetype": "text/x-python",
   "name": "python",
   "nbconvert_exporter": "python",
   "pygments_lexer": "ipython2",
   "version": "2.7.16"
  }
 },
 "nbformat": 4,
 "nbformat_minor": 2
}
