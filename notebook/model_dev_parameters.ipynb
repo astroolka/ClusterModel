{
 "cells": [
  {
   "cell_type": "code",
   "execution_count": 1,
   "metadata": {},
   "outputs": [],
   "source": [
    "import matplotlib.pyplot as plt\n",
    "import astropy.units as u\n",
    "import numpy as np\n",
    "from ClusterModel import model\n",
    "from ClusterTools import cluster_profile\n",
    "from ClusterTools import cluster_spectra\n",
    "from ClusterTools import cluster_spectra_kafexhiu2014\n",
    "\n",
    "dict_base = {'font.size':        16, \n",
    "             'legend.fontsize':  16,\n",
    "             'xtick.labelsize':  16,\n",
    "             'ytick.labelsize':  16,\n",
    "             'axes.labelsize':   16,\n",
    "             'axes.titlesize':   16,\n",
    "             'figure.titlesize': 16,    \n",
    "             'figure.figsize':[8.0, 6.0],\n",
    "             'figure.subplot.right':0.97,\n",
    "             'figure.subplot.left':0.15, # Ensure enough space on the left so that all plot can be aligned\n",
    "             'font.family':'serif',\n",
    "             'figure.facecolor': 'white',\n",
    "             'legend.frameon': True}\n",
    "plt.rcParams.update(dict_base)"
   ]
  },
  {
   "cell_type": "code",
   "execution_count": 2,
   "metadata": {},
   "outputs": [
    {
     "name": "stdout",
     "output_type": "stream",
     "text": [
      "=====================================================================\n",
      "                      ___   __    ___   __   __                      \n",
      "                     / __) / _\\  / __) /  \\ (  )                     \n",
      "                    ( (__ /    \\( (_ \\(  O )/ (_/\\                   \n",
      "                     \\___)\\_/\\_/ \\___/ \\__/ \\____/                   \n",
      "=====================================================================\n",
      "   Cluster Atmosphere modeling for Gamma-ray Observations Libraries  \n",
      "---------------------------------------------------------------------\n",
      "                                                                     \n",
      "Setting gNFW Planck coll. (2013) UPP.\n",
      "Setting EBL_model value\n",
      "Setting nuclear_enhancement value\n",
      "Setting helium mass fraction value\n",
      "Setting abundance value\n",
      "Setting Epmax value\n"
     ]
    }
   ],
   "source": [
    "clust = model.Cluster()\n",
    "clust.EBL_model = 'none'\n",
    "clust.nuclear_enhancement = False\n",
    "clust.helium_mass_fraction = 0.0\n",
    "clust.abundance = 0.0\n",
    "clust.Epmax = 1e7*u.GeV"
   ]
  },
  {
   "cell_type": "code",
   "execution_count": 31,
   "metadata": {},
   "outputs": [
    {
     "name": "stdout",
     "output_type": "stream",
     "text": [
      "Setting gNFW Arnaud et al. (2010) morphologically disturbed.\n"
     ]
    }
   ],
   "source": [
    "clust.set_pressure_gas_gNFW_param('A10MD')"
   ]
  },
  {
   "cell_type": "code",
   "execution_count": 32,
   "metadata": {},
   "outputs": [
    {
     "name": "stdout",
     "output_type": "stream",
     "text": [
      "Setting number of point per decade (for integration) value\n"
     ]
    }
   ],
   "source": [
    "clust.Npt_per_decade_integ = 1000"
   ]
  },
  {
   "cell_type": "code",
   "execution_count": 37,
   "metadata": {},
   "outputs": [],
   "source": [
    "r, x = clust.get_crp_to_thermal_energy_profile(Emin=10*u.GeV, Emax=None)"
   ]
  },
  {
   "cell_type": "code",
   "execution_count": 40,
   "metadata": {},
   "outputs": [],
   "source": [
    "r2, x2 = clust.get_crp_to_thermal_energy_profile2(Emin=10*u.GeV, Emax=None)"
   ]
  },
  {
   "cell_type": "code",
   "execution_count": 41,
   "metadata": {},
   "outputs": [
    {
     "name": "stdout",
     "output_type": "stream",
     "text": [
      "Getting R500 value\n"
     ]
    },
    {
     "data": {
      "text/latex": [
       "$1548.6776 \\; \\mathrm{kpc}$"
      ],
      "text/plain": [
       "<Quantity 1548.6776465 kpc>"
      ]
     },
     "execution_count": 41,
     "metadata": {},
     "output_type": "execute_result"
    },
    {
     "data": {
      "image/png": "[encoded data removed]",
      "text/plain": [
       "<Figure size 432x288 with 1 Axes>"
      ]
     },
     "metadata": {
      "needs_background": "light"
     },
     "output_type": "display_data"
    }
   ],
   "source": [
    "plt.loglog(r,x)\n",
    "plt.loglog(r2,x2)\n",
    "#plt.ylim(0.009,0.012)\n",
    "clust.R500"
   ]
  },
  {
   "cell_type": "code",
   "execution_count": null,
   "metadata": {},
   "outputs": [],
   "source": []
  },
  {
   "cell_type": "code",
   "execution_count": null,
   "metadata": {},
   "outputs": [],
   "source": []
  },
  {
   "cell_type": "code",
   "execution_count": 69,
   "metadata": {},
   "outputs": [
    {
     "name": "stdout",
     "output_type": "stream",
     "text": [
      "100 loops, best of 3: 4.28 ms per loop\n"
     ]
    }
   ],
   "source": [
    "%%timeit\n",
    "e1, s1 = clust.get_crp_spectrum(energy=np.logspace(-1,8,100)*u.GeV, Rmax=100*u.kpc)"
   ]
  },
  {
   "cell_type": "code",
   "execution_count": 70,
   "metadata": {},
   "outputs": [
    {
     "name": "stdout",
     "output_type": "stream",
     "text": [
      "100 loops, best of 3: 4.04 ms per loop\n"
     ]
    }
   ],
   "source": [
    "%%timeit\n",
    "e2, s2 = clust.get_crp_spectrum2(energy=np.logspace(-1,8,100)*u.GeV, Rmax=100*u.kpc)"
   ]
  },
  {
   "cell_type": "code",
   "execution_count": 54,
   "metadata": {},
   "outputs": [
    {
     "data": {
      "text/plain": [
       "[<matplotlib.lines.Line2D at 0x1815c7e1d0>]"
      ]
     },
     "execution_count": 54,
     "metadata": {},
     "output_type": "execute_result"
    },
    {
     "data": {
      "image/png": "[encoded data removed]",
      "text/plain": [
       "<Figure size 432x288 with 1 Axes>"
      ]
     },
     "metadata": {
      "needs_background": "light"
     },
     "output_type": "display_data"
    }
   ],
   "source": [
    "plt.loglog(e1, s1)\n",
    "plt.loglog(e2,s2)"
   ]
  },
  {
   "cell_type": "code",
   "execution_count": 4,
   "metadata": {},
   "outputs": [
    {
     "name": "stderr",
     "output_type": "stream",
     "text": [
      "/Users/adam/Project/CTA/Phys/Software/ClusterTools/cluster_global.py:161: RuntimeWarning: divide by zero encountered in double_scalars\n",
      "  mu_alpha = 4.0 / X[1]\n"
     ]
    }
   ],
   "source": [
    "#%%timeit\n",
    "r,n1 = clust.get_density_crp_profile(Emin=100*u.GeV, Emax = 1*u.TeV)"
   ]
  },
  {
   "cell_type": "code",
   "execution_count": 5,
   "metadata": {},
   "outputs": [],
   "source": [
    "#%%timeit\n",
    "r,n2 = clust.get_density_crp_profile2(Emin=100*u.GeV, Emax = 1*u.TeV)"
   ]
  },
  {
   "cell_type": "code",
   "execution_count": 6,
   "metadata": {},
   "outputs": [
    {
     "data": {
      "text/plain": [
       "[<matplotlib.lines.Line2D at 0x182277ff50>]"
      ]
     },
     "execution_count": 6,
     "metadata": {},
     "output_type": "execute_result"
    },
    {
     "data": {
      "image/png": "[encoded data removed]",
      "text/plain": [
       "<Figure size 432x288 with 1 Axes>"
      ]
     },
     "metadata": {
      "needs_background": "light"
     },
     "output_type": "display_data"
    }
   ],
   "source": [
    "plt.loglog(r,n1)\n",
    "plt.loglog(r,n2, '--')"
   ]
  },
  {
   "cell_type": "code",
   "execution_count": null,
   "metadata": {},
   "outputs": [],
   "source": []
  },
  {
   "cell_type": "code",
   "execution_count": 29,
   "metadata": {},
   "outputs": [
    {
     "name": "stdout",
     "output_type": "stream",
     "text": [
      "[0.97438526] 1 / (cm3 GeV)\n",
      "[1.00007694] 1 / (cm3 GeV)\n"
     ]
    }
   ],
   "source": [
    "print(clust._get_crp_normalization()/4.1722798e-10)\n",
    "print(clust._get_crp_normalization2()/4.1722798e-10)"
   ]
  },
  {
   "cell_type": "code",
   "execution_count": 7,
   "metadata": {},
   "outputs": [
    {
     "name": "stdout",
     "output_type": "stream",
     "text": [
      "10 loops, best of 3: 88.2 ms per loop\n"
     ]
    }
   ],
   "source": [
    "%%timeit\n",
    "r1,m1 = clust.get_thermal_energy_profile()"
   ]
  },
  {
   "cell_type": "code",
   "execution_count": 8,
   "metadata": {},
   "outputs": [
    {
     "name": "stdout",
     "output_type": "stream",
     "text": [
      "10 loops, best of 3: 113 ms per loop\n"
     ]
    }
   ],
   "source": [
    "%%timeit\n",
    "r2,m2 = clust.get_thermal_energy_profile2()"
   ]
  },
  {
   "cell_type": "code",
   "execution_count": 12,
   "metadata": {},
   "outputs": [
    {
     "data": {
      "text/plain": [
       "[<matplotlib.lines.Line2D at 0x1821c66550>]"
      ]
     },
     "execution_count": 12,
     "metadata": {},
     "output_type": "execute_result"
    },
    {
     "data": {
      "image/png": "[encoded data removed]",
      "text/plain": [
       "<Figure size 1080x720 with 1 Axes>"
      ]
     },
     "metadata": {
      "needs_background": "light"
     },
     "output_type": "display_data"
    }
   ],
   "source": [
    "plt.figure(1, figsize=(15,10))\n",
    "plt.loglog(r1,m1)\n",
    "plt.loglog(r2,m2)\n",
    "plt.plot(100*u.kpc, clust.get_thermal_energy_profile(100*u.kpc)[1], 'o')\n",
    "#plt.xlim(1e3,1e4)\n",
    "#plt.ylim(1e14,2e14)"
   ]
  },
  {
   "cell_type": "code",
   "execution_count": null,
   "metadata": {},
   "outputs": [],
   "source": [
    "plt.loglog(r1, (m1-m2)/m1)\n"
   ]
  },
  {
   "cell_type": "code",
   "execution_count": null,
   "metadata": {},
   "outputs": [],
   "source": [
    "crp = clust.get_crp_2d(radius=np.logspace(0,4,30)*u.kpc, energy=np.logspace(-2,7,50)*u.GeV)\n",
    "\n",
    "plt.figure(1, figsize=(10,10))\n",
    "plt.imshow(np.log10(crp.value), origin='lower')\n",
    "plt.colorbar()"
   ]
  },
  {
   "cell_type": "code",
   "execution_count": null,
   "metadata": {},
   "outputs": [],
   "source": [
    "dNdVdtdE_g = clust.get_rate_gamma_ray()\n",
    "dNdVdtdE_e = clust.get_rate_cre()\n",
    "dNdVdtdE_nu = clust.get_rate_neutrino()\n",
    "\n",
    "plt.figure(1, figsize=(15,5))\n",
    "plt.subplot(131)\n",
    "plt.imshow(np.log10(dNdVdtdE_g.value), origin='lower')\n",
    "plt.colorbar()\n",
    "plt.subplot(132)\n",
    "plt.imshow(np.log10(dNdVdtdE_e.value), origin='lower')\n",
    "plt.colorbar()\n",
    "plt.subplot(133)\n",
    "plt.imshow(np.log10(dNdVdtdE_nu.value), origin='lower')\n",
    "plt.colorbar()"
   ]
  },
  {
   "cell_type": "code",
   "execution_count": null,
   "metadata": {},
   "outputs": [],
   "source": [
    "#%%timeit\n",
    "e1, s1 = clust.testfunc()"
   ]
  },
  {
   "cell_type": "code",
   "execution_count": null,
   "metadata": {},
   "outputs": [],
   "source": [
    "#%%timeit\n",
    "e2, s2 = clust.testfunc2()"
   ]
  },
  {
   "cell_type": "code",
   "execution_count": null,
   "metadata": {},
   "outputs": [],
   "source": [
    "plt.loglog(e1.to('GeV'),(e1**2*s1).to('MeV s-1 cm-2'))\n",
    "plt.loglog(e2.to('GeV'),(e2**2*s2).to('MeV s-1 cm-2'))"
   ]
  },
  {
   "cell_type": "code",
   "execution_count": null,
   "metadata": {},
   "outputs": [],
   "source": [
    "plt.plot(e1, ((e1**2*s1).to('MeV s-1 cm-2')-(e2**2*s2).to('MeV s-1 cm-2')) / (e2**2*s2).to('MeV s-1 cm-2')*100)\n",
    "plt.xscale('log')\n",
    "plt.ylabel('difference %')"
   ]
  },
  {
   "cell_type": "code",
   "execution_count": null,
   "metadata": {},
   "outputs": [],
   "source": []
  }
 ],
 "metadata": {
  "kernelspec": {
   "display_name": "Python 2",
   "language": "python",
   "name": "python2"
  },
  "language_info": {
   "codemirror_mode": {
    "name": "ipython",
    "version": 2
   },
   "file_extension": ".py",
   "mimetype": "text/x-python",
   "name": "python",
   "nbconvert_exporter": "python",
   "pygments_lexer": "ipython2",
   "version": "2.7.16"
  }
 },
 "nbformat": 4,
 "nbformat_minor": 2
}
