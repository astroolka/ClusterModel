{
 "cells": [
  {
   "cell_type": "code",
   "execution_count": 1,
   "metadata": {},
   "outputs": [],
   "source": [
    "import matplotlib.pyplot as plt\n",
    "import astropy.units as u\n",
    "import numpy as np\n",
    "from astropy import constants as const\n",
    "from scipy.special import cbrt\n",
    "\n",
    "from ClusterModel import model\n",
    "from ClusterModel import model_tools\n",
    "from ClusterTools import cluster_profile\n",
    "from ClusterTools import cluster_spectra\n",
    "from ClusterTools import cluster_hadronic_emission_kafexhiu2014 as K14\n",
    "from ClusterTools import cluster_electron_emission\n",
    "from ClusterTools import map_tools\n",
    "\n",
    "dict_base = {'font.size':        16,\n",
    "             'legend.fontsize':  16,\n",
    "             'xtick.labelsize':  16,\n",
    "             'ytick.labelsize':  16,\n",
    "             'axes.labelsize':   16,\n",
    "             'axes.titlesize':   16,\n",
    "             'figure.titlesize': 16,    \n",
    "             'figure.figsize':[8.0, 6.0],\n",
    "             'figure.subplot.right':0.97,\n",
    "             'figure.subplot.left':0.15, # Ensure enough space on the left so that all plot can be aligned\n",
    "             'font.family':'serif',\n",
    "             'figure.facecolor': 'white',\n",
    "             'legend.frameon': True}\n",
    "plt.rcParams.update(dict_base)"
   ]
  },
  {
   "cell_type": "code",
   "execution_count": 2,
   "metadata": {},
   "outputs": [
    {
     "name": "stdout",
     "output_type": "stream",
     "text": [
      "=====================================================================\n",
      "                      ___   __    ___   __   __                      \n",
      "                     / __) / _\\  / __) /  \\ (  )                     \n",
      "                    ( (__ /    \\( (_ \\(  O )/ (_/\\                   \n",
      "                     \\___)\\_/\\_/ \\___/ \\__/ \\____/                   \n",
      "=====================================================================\n",
      "   Cluster Atmosphere modeling for Gamma-ray Observations Libraries  \n",
      "---------------------------------------------------------------------\n",
      "                                                                     \n",
      "Setting gNFW Planck coll. (2013) UPP.\n",
      "Setting EBL_model value\n",
      "Setting nuclear_enhancement value\n",
      "Setting helium mass fraction value\n",
      "Setting abundance value\n",
      "Setting Epmax value\n",
      "Setting R_truncation value\n",
      "Setting: theta_truncation ; Fixing: D_ang\n",
      "Setting number of point per decade (for integration) value\n"
     ]
    }
   ],
   "source": [
    "clust = model.Cluster()\n",
    "clust.EBL_model = 'none'\n",
    "clust.nuclear_enhancement = False\n",
    "clust.helium_mass_fraction = 0.0\n",
    "clust.abundance = 0.0\n",
    "clust.Epmax = 1e7*u.GeV\n",
    "\n",
    "clust.R_truncation = 1.6*u.Mpc\n",
    "\n",
    "clust.Npt_per_decade_integ = 10"
   ]
  },
  {
   "cell_type": "code",
   "execution_count": 3,
   "metadata": {},
   "outputs": [
    {
     "data": {
      "text/plain": [
       "(<Quantity [139.54490944] Jy>, <Quantity [139.54490944] Jy>)"
      ]
     },
     "execution_count": 3,
     "metadata": {},
     "output_type": "execute_result"
    }
   ],
   "source": [
    "f1 = clust.get_synchrotron_flux2(freq0=123*u.MHz, type_integral='cylindrical',Rmin_los=0.01*u.kpc)\n",
    "f2 = clust.get_synchrotron_flux(freq0=123*u.MHz, type_integral='cylindrical',Rmin_los=0.01*u.kpc)\n",
    "f1,f2"
   ]
  },
  {
   "cell_type": "code",
   "execution_count": 7,
   "metadata": {},
   "outputs": [
    {
     "data": {
      "image/png": "[encoded data removed]",
      "text/plain": [
       "<Figure size 432x288 with 1 Axes>"
      ]
     },
     "metadata": {
      "needs_background": "light"
     },
     "output_type": "display_data"
    }
   ],
   "source": [
    "Rmax = np.logspace(1,4,10)*u.kpc\n",
    "f = clust.get_synchrotron_flux(Rmax=Rmax, type_integral='spherical', Rmin_los=1*u.kpc)\n",
    "plt.loglog(Rmax, f)\n",
    "for i in range(len(Rmax)):\n",
    "    fc = clust.get_synchrotron_flux(Rmax=Rmax[i], type_integral='cylindrical', Rmin_los=1*u.kpc)\n",
    "    plt.plot(Rmax[i], fc, 'o')"
   ]
  },
  {
   "cell_type": "markdown",
   "metadata": {},
   "source": [
    "# Check the injection rate"
   ]
  },
  {
   "cell_type": "code",
   "execution_count": null,
   "metadata": {},
   "outputs": [],
   "source": [
    "energy=np.logspace(-1,10, 100)*u.MeV\n",
    "radius=np.logspace(0,4,100)*u.kpc\n",
    "R_cre = clust.get_rate_cre(energy, radius)\n",
    "e, S_crp = clust.get_crp_spectrum(energy)\n",
    "\n",
    "plt.figure(1)\n",
    "plt.imshow(np.log10(R_cre.value), origin='lower')\n",
    "plt.colorbar()\n",
    "\n",
    "plt.figure(2, figsize=(15,10))\n",
    "for i in range(len(R_cre[0,:])):\n",
    "    plt.loglog(energy, R_cre[:,i], '.')\n",
    "plt.loglog(energy, S_crp*np.amax(R_cre.value)/np.amax(S_crp.value))\n",
    "plt.vlines((const.m_e*const.c**2).to('MeV').value, 1e-10*np.amax(R_cre.value), np.amax(R_cre.value))\n",
    "R_cre"
   ]
  },
  {
   "cell_type": "code",
   "execution_count": null,
   "metadata": {},
   "outputs": [],
   "source": [
    "%%timeit\n",
    "clust.Npt_per_decade_integ = 100\n",
    "energy=np.logspace(-1,10, 100)*u.MeV\n",
    "radius=np.logspace(0,4,100)*u.kpc\n",
    "R_cre = clust.get_rate_cre(energy, radius)"
   ]
  },
  {
   "cell_type": "markdown",
   "metadata": {},
   "source": [
    "# Check CRe spectrum "
   ]
  },
  {
   "cell_type": "code",
   "execution_count": null,
   "metadata": {},
   "outputs": [],
   "source": [
    "%%timeit\n",
    "clust.Npt_per_decade_integ = 100\n",
    "\n",
    "energy=np.logspace(-1,10, 100)*u.MeV\n",
    "radius=np.logspace(0,4,100)*u.kpc\n",
    "Scre = clust.get_spectrum_cre(energy, radius)"
   ]
  },
  {
   "cell_type": "code",
   "execution_count": null,
   "metadata": {},
   "outputs": [],
   "source": [
    "clust.Npt_per_decade_integ = 10\n",
    "\n",
    "energy=np.logspace(-1,10, 100)*u.MeV\n",
    "radius=np.logspace(0,4,100)*u.kpc\n",
    "S_cre = clust.get_spectrum_cre(energy, radius)\n",
    "e, S_crp = clust.get_crp_spectrum(energy)"
   ]
  },
  {
   "cell_type": "code",
   "execution_count": null,
   "metadata": {},
   "outputs": [],
   "source": [
    "plt.figure(1)\n",
    "plt.imshow(np.log10(S_cre.value), origin='lower')\n",
    "plt.colorbar()\n",
    "\n",
    "plt.figure(2, figsize=(15,10))\n",
    "for i in range(len(S_cre[0,:])):\n",
    "    plt.loglog(energy, S_cre[:,i], '.')\n",
    "plt.loglog(energy, S_crp*np.amax(S_cre.value)/np.amax(S_crp.value)/1000)\n",
    "plt.loglog(energy, (energy*S_crp)*np.amax(S_cre.value)/np.amax(((energy*S_crp)).value)/1000)\n",
    "plt.loglog(energy, (energy**-1*S_crp)*np.amax(S_cre.value)/np.amax(((energy**-1*S_crp)).value)/1000)\n",
    "plt.vlines((const.m_e*const.c**2).to('MeV').value, 1e-10*np.amax(S_cre.value), np.amax(S_cre.value))\n",
    "S_cre"
   ]
  },
  {
   "cell_type": "code",
   "execution_count": null,
   "metadata": {},
   "outputs": [],
   "source": [
    "energy=np.logspace(-1,10, 100)*u.MeV\n",
    "radius=np.logspace(0,4,100)*u.kpc\n",
    "clust.Npt_per_decade_integ = 100\n",
    "S_cre_1 = clust.get_spectrum_cre(energy, radius)\n",
    "clust.Npt_per_decade_integ = 20\n",
    "S_cre_2 = clust.get_spectrum_cre(energy, radius)"
   ]
  },
  {
   "cell_type": "code",
   "execution_count": null,
   "metadata": {},
   "outputs": [],
   "source": [
    "plt.figure(1, figsize=(15,10))\n",
    "plt.imshow((S_cre_1.value-S_cre_2.value)/S_cre_1.value*100, origin='lower', cmap='nipy_spectral')\n",
    "plt.colorbar()"
   ]
  },
  {
   "cell_type": "code",
   "execution_count": null,
   "metadata": {},
   "outputs": [],
   "source": []
  },
  {
   "cell_type": "code",
   "execution_count": null,
   "metadata": {},
   "outputs": [],
   "source": [
    "import naima\n",
    "from astropy import constants as const"
   ]
  },
  {
   "cell_type": "code",
   "execution_count": null,
   "metadata": {},
   "outputs": [],
   "source": [
    "Eg  = np.logspace(-16,10,100)*u.eV\n",
    "radius = np.logspace(0,4, 100)*u.kpc\n",
    "\n",
    "Emin = const.m_e*const.c**2\n",
    "Ee  = np.logspace(np.log10(Emin.to_value('GeV')),6,100)*u.GeV\n",
    "f_r = 1.0 * np.exp(-radius.to_value('kpc')/400)\n",
    "f_e = 1.0 * Ee.to_value('GeV')**-2\n",
    "B   = 1*u.G * f_r**0.5\n",
    "\n",
    "We = 1000*u.GeV*u.cm**-3"
   ]
  },
  {
   "cell_type": "code",
   "execution_count": null,
   "metadata": {},
   "outputs": [],
   "source": [
    "i = 2"
   ]
  },
  {
   "cell_type": "code",
   "execution_count": null,
   "metadata": {},
   "outputs": [],
   "source": [
    "def Je(eng):\n",
    "    return eng**-2\n",
    "\n",
    "def Je2(rad, eng):\n",
    "    et = (np.tile(eng**-2, [len(rad),1]))\n",
    "    rt = np.tile(np.exp(-rad/400), [len(eng),1]).T\n",
    "    return  et * rt"
   ]
  },
  {
   "cell_type": "code",
   "execution_count": null,
   "metadata": {},
   "outputs": [],
   "source": [
    "syn = cluster_electron_emission.ClusterElectronEmission(Je2, Eemin=np.amin(Ee.value)*Ee.unit, Eemax=np.amax(Ee.value)*Ee.unit)\n",
    "syn.set_cr_energy_density(We*f_r, radius, Emin=500*u.MeV, Emax=1*u.TeV)\n",
    "spec = syn.synchrotron(Eg, radius_input=radius, B=B)"
   ]
  },
  {
   "cell_type": "code",
   "execution_count": null,
   "metadata": {},
   "outputs": [],
   "source": [
    "PartDist = naima.models.TableModel(Ee, Je(Ee.to_value('GeV'))*u.GeV**-1) # Trick Naima units\n",
    "syn_naima = naima.models.Synchrotron(PartDist, B=B[i])\n",
    "syn_naima.Eemin = np.amin(Ee.value)*Ee.unit\n",
    "syn_naima.Eemax = np.amax(Ee.value)*Ee.unit\n",
    "syn_naima.set_We(We.to_value('GeV cm-3')*u.GeV*f_r[i], Eemin=500*u.MeV, Eemax=1*u.TeV)\n",
    "spec_naima = syn_naima._spectrum(Eg)*u.cm**-3"
   ]
  },
  {
   "cell_type": "code",
   "execution_count": null,
   "metadata": {},
   "outputs": [],
   "source": [
    "plt.figure(1, figsize=(15,10))\n",
    "plt.loglog(Eg, spec[i,:].to('GeV-1 s-1 cm-3'), linewidth=3)\n",
    "plt.loglog(Eg, spec_naima.to('GeV-1 s-1 cm-3'), '--')"
   ]
  },
  {
   "cell_type": "code",
   "execution_count": null,
   "metadata": {},
   "outputs": [],
   "source": []
  },
  {
   "cell_type": "code",
   "execution_count": null,
   "metadata": {},
   "outputs": [],
   "source": [
    "import naima\n",
    "from astropy import constants as const"
   ]
  },
  {
   "cell_type": "code",
   "execution_count": null,
   "metadata": {},
   "outputs": [],
   "source": [
    "Eg  = np.logspace(-20,10,100)*u.GeV\n",
    "radius = np.logspace(0,4,100)*u.kpc\n",
    "\n",
    "Emin = const.m_e*const.c**2\n",
    "Ee  = np.logspace(np.log10(Emin.to_value('GeV')),6,100)*u.GeV\n",
    "f_r = 1.0 * (1+(radius.to_value('kpc')/10.0)**2)**-1.5\n",
    "f_e = 1.0 * Ee.to_value('GeV')**-2\n",
    "\n",
    "We = 1000*u.GeV*u.cm**-3"
   ]
  },
  {
   "cell_type": "code",
   "execution_count": null,
   "metadata": {},
   "outputs": [],
   "source": [
    "def Je(eng):\n",
    "    return eng**-2\n",
    "\n",
    "def Je2(rad, eng):\n",
    "    et = (np.tile(eng**-2, [len(rad),1]))\n",
    "    rt = np.tile(1/(1+(rad/10.0)**2)**-1.5, [len(eng),1]).T\n",
    "    return  et * rt"
   ]
  },
  {
   "cell_type": "code",
   "execution_count": null,
   "metadata": {},
   "outputs": [],
   "source": [
    "i = 0"
   ]
  },
  {
   "cell_type": "code",
   "execution_count": null,
   "metadata": {},
   "outputs": [],
   "source": [
    "ic = cluster_electron_emission.ClusterElectronEmission(Je2, Eemin=np.amin(Ee.value)*Ee.unit, Eemax=np.amax(Ee.value)*Ee.unit)\n",
    "ic.set_cr_energy_density(We*f_r, radius=radius, Emin=500*u.MeV, Emax=1*u.TeV)\n",
    "spec = ic.inverse_compton(Eg, radius_input=radius, redshift=0.0)"
   ]
  },
  {
   "cell_type": "code",
   "execution_count": null,
   "metadata": {},
   "outputs": [],
   "source": [
    "PartDist = naima.models.TableModel(Ee, Je(Ee.to_value('GeV'))*u.GeV**-1) # Trick Naima units\n",
    "ic_naima = naima.models.InverseCompton(PartDist)\n",
    "ic_naima.Eemin = np.amin(Ee.value)*Ee.unit\n",
    "ic_naima.Eemax = np.amax(Ee.value)*Ee.unit\n",
    "ic_naima.set_We(We.to_value('GeV cm-3')*u.GeV*f_r[i], Eemin=500*u.MeV, Eemax=1*u.TeV)\n",
    "spec_naima = ic_naima._spectrum(Eg)*u.cm**-3"
   ]
  },
  {
   "cell_type": "code",
   "execution_count": null,
   "metadata": {},
   "outputs": [],
   "source": [
    "plt.figure(1, figsize=(15,10))\n",
    "plt.loglog(Eg, Eg**2*spec[i,:].to('GeV-1 s-1 cm-3'), linewidth=3)\n",
    "plt.loglog(Eg, Eg**2*spec_naima.to('GeV-1 s-1 cm-3'), '--')"
   ]
  },
  {
   "cell_type": "code",
   "execution_count": null,
   "metadata": {},
   "outputs": [],
   "source": []
  }
 ],
 "metadata": {
  "kernelspec": {
   "display_name": "Python 2",
   "language": "python",
   "name": "python2"
  },
  "language_info": {
   "codemirror_mode": {
    "name": "ipython",
    "version": 2
   },
   "file_extension": ".py",
   "mimetype": "text/x-python",
   "name": "python",
   "nbconvert_exporter": "python",
   "pygments_lexer": "ipython2",
   "version": "2.7.16"
  }
 },
 "nbformat": 4,
 "nbformat_minor": 2
}
